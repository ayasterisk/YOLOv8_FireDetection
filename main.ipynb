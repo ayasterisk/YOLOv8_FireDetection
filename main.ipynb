{
 "cells": [
  {
   "cell_type": "code",
   "execution_count": 1,
   "metadata": {},
   "outputs": [],
   "source": [
    "from ultralytics import YOLO"
   ]
  },
  {
   "cell_type": "code",
   "execution_count": 2,
   "metadata": {},
   "outputs": [],
   "source": [
    "model = YOLO('yolov8s.pt')"
   ]
  },
  {
   "cell_type": "code",
   "execution_count": 3,
   "metadata": {},
   "outputs": [
    {
     "name": "stdout",
     "output_type": "stream",
     "text": [
      "Ultralytics 8.3.49  Python-3.12.7 torch-2.5.1+cu118 CUDA:0 (NVIDIA GeForce GTX 1050 Ti, 4096MiB)\n",
      "\u001b[34m\u001b[1mengine\\trainer: \u001b[0mtask=detect, mode=train, model=yolov8s.pt, data=fire_detection.yaml, epochs=50, time=None, patience=100, batch=4, imgsz=640, save=True, save_period=-1, cache=False, device=0, workers=2, project=None, name=train, exist_ok=False, pretrained=True, optimizer=auto, verbose=True, seed=0, deterministic=True, single_cls=False, rect=False, cos_lr=False, close_mosaic=10, resume=False, amp=True, fraction=1.0, profile=False, freeze=None, multi_scale=False, overlap_mask=True, mask_ratio=4, dropout=0.0, val=True, split=val, save_json=False, save_hybrid=False, conf=None, iou=0.7, max_det=300, half=False, dnn=False, plots=True, source=None, vid_stride=1, stream_buffer=False, visualize=False, augment=False, agnostic_nms=False, classes=None, retina_masks=False, embed=None, show=False, save_frames=False, save_txt=False, save_conf=False, save_crop=False, show_labels=True, show_conf=True, show_boxes=True, line_width=None, format=torchscript, keras=False, optimize=False, int8=False, dynamic=False, simplify=True, opset=None, workspace=None, nms=False, lr0=0.01, lrf=0.01, momentum=0.937, weight_decay=0.0005, warmup_epochs=3.0, warmup_momentum=0.8, warmup_bias_lr=0.1, box=7.5, cls=0.5, dfl=1.5, pose=12.0, kobj=1.0, nbs=64, hsv_h=0.015, hsv_s=0.7, hsv_v=0.4, degrees=0.0, translate=0.1, scale=0.5, shear=0.0, perspective=0.0, flipud=0.0, fliplr=0.5, bgr=0.0, mosaic=1.0, mixup=0.0, copy_paste=0.0, copy_paste_mode=flip, auto_augment=randaugment, erasing=0.4, crop_fraction=1.0, cfg=None, tracker=botsort.yaml, save_dir=runs\\detect\\train\n",
      "Overriding model.yaml nc=80 with nc=1\n",
      "\n",
      "                   from  n    params  module                                       arguments                     \n",
      "  0                  -1  1       928  ultralytics.nn.modules.conv.Conv             [3, 32, 3, 2]                 \n",
      "  1                  -1  1     18560  ultralytics.nn.modules.conv.Conv             [32, 64, 3, 2]                \n",
      "  2                  -1  1     29056  ultralytics.nn.modules.block.C2f             [64, 64, 1, True]             \n",
      "  3                  -1  1     73984  ultralytics.nn.modules.conv.Conv             [64, 128, 3, 2]               \n",
      "  4                  -1  2    197632  ultralytics.nn.modules.block.C2f             [128, 128, 2, True]           \n",
      "  5                  -1  1    295424  ultralytics.nn.modules.conv.Conv             [128, 256, 3, 2]              \n",
      "  6                  -1  2    788480  ultralytics.nn.modules.block.C2f             [256, 256, 2, True]           \n",
      "  7                  -1  1   1180672  ultralytics.nn.modules.conv.Conv             [256, 512, 3, 2]              \n",
      "  8                  -1  1   1838080  ultralytics.nn.modules.block.C2f             [512, 512, 1, True]           \n",
      "  9                  -1  1    656896  ultralytics.nn.modules.block.SPPF            [512, 512, 5]                 \n",
      " 10                  -1  1         0  torch.nn.modules.upsampling.Upsample         [None, 2, 'nearest']          \n",
      " 11             [-1, 6]  1         0  ultralytics.nn.modules.conv.Concat           [1]                           \n",
      " 12                  -1  1    591360  ultralytics.nn.modules.block.C2f             [768, 256, 1]                 \n",
      " 13                  -1  1         0  torch.nn.modules.upsampling.Upsample         [None, 2, 'nearest']          \n",
      " 14             [-1, 4]  1         0  ultralytics.nn.modules.conv.Concat           [1]                           \n",
      " 15                  -1  1    148224  ultralytics.nn.modules.block.C2f             [384, 128, 1]                 \n",
      " 16                  -1  1    147712  ultralytics.nn.modules.conv.Conv             [128, 128, 3, 2]              \n",
      " 17            [-1, 12]  1         0  ultralytics.nn.modules.conv.Concat           [1]                           \n",
      " 18                  -1  1    493056  ultralytics.nn.modules.block.C2f             [384, 256, 1]                 \n",
      " 19                  -1  1    590336  ultralytics.nn.modules.conv.Conv             [256, 256, 3, 2]              \n",
      " 20             [-1, 9]  1         0  ultralytics.nn.modules.conv.Concat           [1]                           \n",
      " 21                  -1  1   1969152  ultralytics.nn.modules.block.C2f             [768, 512, 1]                 \n",
      " 22        [15, 18, 21]  1   2116435  ultralytics.nn.modules.head.Detect           [1, [128, 256, 512]]          \n",
      "Model summary: 225 layers, 11,135,987 parameters, 11,135,971 gradients, 28.6 GFLOPs\n",
      "\n",
      "Transferred 349/355 items from pretrained weights\n",
      "\u001b[34m\u001b[1mTensorBoard: \u001b[0mStart with 'tensorboard --logdir runs\\detect\\train', view at http://localhost:6006/\n",
      "Freezing layer 'model.22.dfl.conv.weight'\n",
      "\u001b[34m\u001b[1mAMP: \u001b[0mrunning Automatic Mixed Precision (AMP) checks...\n",
      "Downloading https://github.com/ultralytics/assets/releases/download/v8.3.0/yolo11n.pt to 'yolo11n.pt'...\n"
     ]
    },
    {
     "name": "stderr",
     "output_type": "stream",
     "text": [
      "100%|██████████| 5.35M/5.35M [00:05<00:00, 1.11MB/s]\n"
     ]
    },
    {
     "name": "stdout",
     "output_type": "stream",
     "text": [
      "\u001b[34m\u001b[1mAMP: \u001b[0mchecks passed \n"
     ]
    },
    {
     "name": "stderr",
     "output_type": "stream",
     "text": [
      "\u001b[34m\u001b[1mtrain: \u001b[0mScanning D:\\GitHub\\YOLOv8_FireDetection\\dataset\\labels\\train... 1682 images, 1008 backgrounds, 1 corrupt: 100%|██████████| 1683/1683 [00:02<00:00, 774.19it/s] "
     ]
    },
    {
     "name": "stdout",
     "output_type": "stream",
     "text": [
      "\u001b[34m\u001b[1mtrain: \u001b[0mWARNING  D:\\GitHub\\YOLOv8_FireDetection\\dataset\\images\\train\\Neuimage_330.jpg: ignoring corrupt image/label: invalid image format GIF. Supported formats are:\n",
      "images: {'bmp', 'pfm', 'dng', 'jpg', 'jpeg', 'mpo', 'tif', 'heic', 'png', 'webp', 'tiff'}\n",
      "videos: {'mp4', 'mkv', 'wmv', 'mpg', 'webm', 'asf', 'ts', 'mov', 'mpeg', 'gif', 'm4v', 'avi'}\n"
     ]
    },
    {
     "name": "stderr",
     "output_type": "stream",
     "text": [
      "\n"
     ]
    },
    {
     "name": "stdout",
     "output_type": "stream",
     "text": [
      "\u001b[34m\u001b[1mtrain: \u001b[0mNew cache created: D:\\GitHub\\YOLOv8_FireDetection\\dataset\\labels\\train.cache\n"
     ]
    },
    {
     "name": "stderr",
     "output_type": "stream",
     "text": [
      "\u001b[34m\u001b[1mval: \u001b[0mScanning D:\\GitHub\\YOLOv8_FireDetection\\dataset\\labels\\val... 637 images, 329 backgrounds, 0 corrupt: 100%|██████████| 637/637 [00:01<00:00, 380.21it/s]"
     ]
    },
    {
     "name": "stdout",
     "output_type": "stream",
     "text": [
      "\u001b[34m\u001b[1mval: \u001b[0mNew cache created: D:\\GitHub\\YOLOv8_FireDetection\\dataset\\labels\\val.cache\n"
     ]
    },
    {
     "name": "stderr",
     "output_type": "stream",
     "text": [
      "\n"
     ]
    },
    {
     "name": "stdout",
     "output_type": "stream",
     "text": [
      "Plotting labels to runs\\detect\\train\\labels.jpg... \n",
      "\u001b[34m\u001b[1moptimizer:\u001b[0m 'optimizer=auto' found, ignoring 'lr0=0.01' and 'momentum=0.937' and determining best 'optimizer', 'lr0' and 'momentum' automatically... \n",
      "\u001b[34m\u001b[1moptimizer:\u001b[0m AdamW(lr=0.002, momentum=0.9) with parameter groups 57 weight(decay=0.0), 64 weight(decay=0.0005), 63 bias(decay=0.0)\n",
      "\u001b[34m\u001b[1mTensorBoard: \u001b[0mmodel graph visualization added \n",
      "Image sizes 640 train, 640 val\n",
      "Using 2 dataloader workers\n",
      "Logging results to \u001b[1mruns\\detect\\train\u001b[0m\n",
      "Starting training for 50 epochs...\n",
      "\n",
      "      Epoch    GPU_mem   box_loss   cls_loss   dfl_loss  Instances       Size\n"
     ]
    },
    {
     "name": "stderr",
     "output_type": "stream",
     "text": [
      "       1/50      1.49G      1.678      3.834      1.716         18        640: 100%|██████████| 421/421 [02:38<00:00,  2.66it/s]\n",
      "                 Class     Images  Instances      Box(P          R      mAP50  mAP50-95): 100%|██████████| 80/80 [00:13<00:00,  5.97it/s]\n"
     ]
    },
    {
     "name": "stdout",
     "output_type": "stream",
     "text": [
      "                   all        637        927     0.0974      0.287     0.0597     0.0251\n",
      "\n",
      "      Epoch    GPU_mem   box_loss   cls_loss   dfl_loss  Instances       Size\n"
     ]
    },
    {
     "name": "stderr",
     "output_type": "stream",
     "text": [
      "       2/50      1.44G      1.858      2.692      1.945         11        640: 100%|██████████| 421/421 [02:35<00:00,  2.71it/s]\n",
      "                 Class     Images  Instances      Box(P          R      mAP50  mAP50-95): 100%|██████████| 80/80 [00:14<00:00,  5.63it/s]\n"
     ]
    },
    {
     "name": "stdout",
     "output_type": "stream",
     "text": [
      "                   all        637        927      0.011      0.533    0.00877    0.00322\n",
      "\n",
      "      Epoch    GPU_mem   box_loss   cls_loss   dfl_loss  Instances       Size\n"
     ]
    },
    {
     "name": "stderr",
     "output_type": "stream",
     "text": [
      "       3/50      1.44G      1.897       2.65      1.967          3        640: 100%|██████████| 421/421 [02:41<00:00,  2.61it/s]\n",
      "                 Class     Images  Instances      Box(P          R      mAP50  mAP50-95): 100%|██████████| 80/80 [00:14<00:00,  5.63it/s]\n"
     ]
    },
    {
     "name": "stdout",
     "output_type": "stream",
     "text": [
      "                   all        637        927       0.32      0.307      0.242      0.105\n",
      "\n",
      "      Epoch    GPU_mem   box_loss   cls_loss   dfl_loss  Instances       Size\n"
     ]
    },
    {
     "name": "stderr",
     "output_type": "stream",
     "text": [
      "       4/50      1.44G      1.891      2.659      1.937         20        640: 100%|██████████| 421/421 [02:41<00:00,  2.60it/s]\n",
      "                 Class     Images  Instances      Box(P          R      mAP50  mAP50-95): 100%|██████████| 80/80 [00:13<00:00,  5.73it/s]"
     ]
    },
    {
     "name": "stdout",
     "output_type": "stream",
     "text": [
      "                   all        637        927      0.241      0.339       0.19     0.0838\n"
     ]
    },
    {
     "name": "stderr",
     "output_type": "stream",
     "text": [
      "\n"
     ]
    },
    {
     "name": "stdout",
     "output_type": "stream",
     "text": [
      "\n",
      "      Epoch    GPU_mem   box_loss   cls_loss   dfl_loss  Instances       Size\n"
     ]
    },
    {
     "name": "stderr",
     "output_type": "stream",
     "text": [
      "       5/50      1.44G      1.781      2.544      1.866          0        640: 100%|██████████| 421/421 [02:39<00:00,  2.64it/s]\n",
      "                 Class     Images  Instances      Box(P          R      mAP50  mAP50-95): 100%|██████████| 80/80 [00:13<00:00,  5.95it/s]"
     ]
    },
    {
     "name": "stdout",
     "output_type": "stream",
     "text": [
      "                   all        637        927      0.254      0.385      0.235      0.112\n"
     ]
    },
    {
     "name": "stderr",
     "output_type": "stream",
     "text": [
      "\n"
     ]
    },
    {
     "name": "stdout",
     "output_type": "stream",
     "text": [
      "\n",
      "      Epoch    GPU_mem   box_loss   cls_loss   dfl_loss  Instances       Size\n"
     ]
    },
    {
     "name": "stderr",
     "output_type": "stream",
     "text": [
      "       6/50      1.43G      1.758      2.376      1.835          2        640: 100%|██████████| 421/421 [02:38<00:00,  2.65it/s]\n",
      "                 Class     Images  Instances      Box(P          R      mAP50  mAP50-95): 100%|██████████| 80/80 [00:13<00:00,  6.03it/s]"
     ]
    },
    {
     "name": "stdout",
     "output_type": "stream",
     "text": [
      "                   all        637        927      0.384      0.372      0.348      0.165\n"
     ]
    },
    {
     "name": "stderr",
     "output_type": "stream",
     "text": [
      "\n"
     ]
    },
    {
     "name": "stdout",
     "output_type": "stream",
     "text": [
      "\n",
      "      Epoch    GPU_mem   box_loss   cls_loss   dfl_loss  Instances       Size\n"
     ]
    },
    {
     "name": "stderr",
     "output_type": "stream",
     "text": [
      "       7/50      1.43G      1.713      2.419      1.825          5        640: 100%|██████████| 421/421 [02:35<00:00,  2.71it/s]\n",
      "                 Class     Images  Instances      Box(P          R      mAP50  mAP50-95): 100%|██████████| 80/80 [00:13<00:00,  5.95it/s]"
     ]
    },
    {
     "name": "stdout",
     "output_type": "stream",
     "text": [
      "                   all        637        927      0.417      0.383      0.366      0.185\n"
     ]
    },
    {
     "name": "stderr",
     "output_type": "stream",
     "text": [
      "\n"
     ]
    },
    {
     "name": "stdout",
     "output_type": "stream",
     "text": [
      "\n",
      "      Epoch    GPU_mem   box_loss   cls_loss   dfl_loss  Instances       Size\n"
     ]
    },
    {
     "name": "stderr",
     "output_type": "stream",
     "text": [
      "       8/50      1.44G      1.657      2.279      1.746          4        640: 100%|██████████| 421/421 [02:34<00:00,  2.72it/s]\n",
      "                 Class     Images  Instances      Box(P          R      mAP50  mAP50-95): 100%|██████████| 80/80 [00:13<00:00,  5.93it/s]"
     ]
    },
    {
     "name": "stdout",
     "output_type": "stream",
     "text": [
      "                   all        637        927      0.444      0.456      0.412      0.204\n"
     ]
    },
    {
     "name": "stderr",
     "output_type": "stream",
     "text": [
      "\n"
     ]
    },
    {
     "name": "stdout",
     "output_type": "stream",
     "text": [
      "\n",
      "      Epoch    GPU_mem   box_loss   cls_loss   dfl_loss  Instances       Size\n"
     ]
    },
    {
     "name": "stderr",
     "output_type": "stream",
     "text": [
      "       9/50      1.44G      1.624      2.142      1.714          2        640: 100%|██████████| 421/421 [02:36<00:00,  2.70it/s]\n",
      "                 Class     Images  Instances      Box(P          R      mAP50  mAP50-95): 100%|██████████| 80/80 [00:13<00:00,  5.92it/s]"
     ]
    },
    {
     "name": "stdout",
     "output_type": "stream",
     "text": [
      "                   all        637        927      0.438      0.445      0.398      0.202\n"
     ]
    },
    {
     "name": "stderr",
     "output_type": "stream",
     "text": [
      "\n"
     ]
    },
    {
     "name": "stdout",
     "output_type": "stream",
     "text": [
      "\n",
      "      Epoch    GPU_mem   box_loss   cls_loss   dfl_loss  Instances       Size\n"
     ]
    },
    {
     "name": "stderr",
     "output_type": "stream",
     "text": [
      "      10/50      1.43G      1.603      2.238      1.703          6        640: 100%|██████████| 421/421 [02:37<00:00,  2.67it/s]\n",
      "                 Class     Images  Instances      Box(P          R      mAP50  mAP50-95): 100%|██████████| 80/80 [00:13<00:00,  5.76it/s]"
     ]
    },
    {
     "name": "stdout",
     "output_type": "stream",
     "text": [
      "                   all        637        927      0.456      0.449      0.414      0.216\n"
     ]
    },
    {
     "name": "stderr",
     "output_type": "stream",
     "text": [
      "\n"
     ]
    },
    {
     "name": "stdout",
     "output_type": "stream",
     "text": [
      "\n",
      "      Epoch    GPU_mem   box_loss   cls_loss   dfl_loss  Instances       Size\n"
     ]
    },
    {
     "name": "stderr",
     "output_type": "stream",
     "text": [
      "      11/50      1.43G       1.61      2.358      1.693          0        640: 100%|██████████| 421/421 [02:37<00:00,  2.68it/s]\n",
      "                 Class     Images  Instances      Box(P          R      mAP50  mAP50-95): 100%|██████████| 80/80 [00:13<00:00,  5.95it/s]"
     ]
    },
    {
     "name": "stdout",
     "output_type": "stream",
     "text": [
      "                   all        637        927      0.355      0.492       0.32      0.154\n"
     ]
    },
    {
     "name": "stderr",
     "output_type": "stream",
     "text": [
      "\n"
     ]
    },
    {
     "name": "stdout",
     "output_type": "stream",
     "text": [
      "\n",
      "      Epoch    GPU_mem   box_loss   cls_loss   dfl_loss  Instances       Size\n"
     ]
    },
    {
     "name": "stderr",
     "output_type": "stream",
     "text": [
      "      12/50      1.43G       1.59      2.192      1.673          5        640: 100%|██████████| 421/421 [02:36<00:00,  2.70it/s]\n",
      "                 Class     Images  Instances      Box(P          R      mAP50  mAP50-95): 100%|██████████| 80/80 [00:13<00:00,  5.97it/s]"
     ]
    },
    {
     "name": "stdout",
     "output_type": "stream",
     "text": [
      "                   all        637        927       0.41      0.429      0.396      0.207\n"
     ]
    },
    {
     "name": "stderr",
     "output_type": "stream",
     "text": [
      "\n"
     ]
    },
    {
     "name": "stdout",
     "output_type": "stream",
     "text": [
      "\n",
      "      Epoch    GPU_mem   box_loss   cls_loss   dfl_loss  Instances       Size\n"
     ]
    },
    {
     "name": "stderr",
     "output_type": "stream",
     "text": [
      "      13/50      1.42G       1.59      2.115      1.684          7        640: 100%|██████████| 421/421 [02:34<00:00,  2.72it/s]\n",
      "                 Class     Images  Instances      Box(P          R      mAP50  mAP50-95): 100%|██████████| 80/80 [00:13<00:00,  6.06it/s]"
     ]
    },
    {
     "name": "stdout",
     "output_type": "stream",
     "text": [
      "                   all        637        927      0.505      0.467      0.465      0.246\n"
     ]
    },
    {
     "name": "stderr",
     "output_type": "stream",
     "text": [
      "\n"
     ]
    },
    {
     "name": "stdout",
     "output_type": "stream",
     "text": [
      "\n",
      "      Epoch    GPU_mem   box_loss   cls_loss   dfl_loss  Instances       Size\n"
     ]
    },
    {
     "name": "stderr",
     "output_type": "stream",
     "text": [
      "      14/50      1.44G      1.595      2.051      1.672          3        640: 100%|██████████| 421/421 [02:35<00:00,  2.71it/s]\n",
      "                 Class     Images  Instances      Box(P          R      mAP50  mAP50-95): 100%|██████████| 80/80 [00:13<00:00,  5.98it/s]"
     ]
    },
    {
     "name": "stdout",
     "output_type": "stream",
     "text": [
      "                   all        637        927      0.443      0.491      0.442      0.232\n"
     ]
    },
    {
     "name": "stderr",
     "output_type": "stream",
     "text": [
      "\n"
     ]
    },
    {
     "name": "stdout",
     "output_type": "stream",
     "text": [
      "\n",
      "      Epoch    GPU_mem   box_loss   cls_loss   dfl_loss  Instances       Size\n"
     ]
    },
    {
     "name": "stderr",
     "output_type": "stream",
     "text": [
      "      15/50      1.43G      1.556      2.015      1.647          8        640: 100%|██████████| 421/421 [02:35<00:00,  2.71it/s]\n",
      "                 Class     Images  Instances      Box(P          R      mAP50  mAP50-95): 100%|██████████| 80/80 [00:13<00:00,  5.86it/s]"
     ]
    },
    {
     "name": "stdout",
     "output_type": "stream",
     "text": [
      "                   all        637        927      0.467      0.461      0.453      0.245\n"
     ]
    },
    {
     "name": "stderr",
     "output_type": "stream",
     "text": [
      "\n"
     ]
    },
    {
     "name": "stdout",
     "output_type": "stream",
     "text": [
      "\n",
      "      Epoch    GPU_mem   box_loss   cls_loss   dfl_loss  Instances       Size\n"
     ]
    },
    {
     "name": "stderr",
     "output_type": "stream",
     "text": [
      "      16/50      1.44G      1.508      2.053      1.604          1        640: 100%|██████████| 421/421 [02:34<00:00,  2.73it/s]\n",
      "                 Class     Images  Instances      Box(P          R      mAP50  mAP50-95): 100%|██████████| 80/80 [00:13<00:00,  6.07it/s]"
     ]
    },
    {
     "name": "stdout",
     "output_type": "stream",
     "text": [
      "                   all        637        927      0.438      0.467      0.429      0.217\n"
     ]
    },
    {
     "name": "stderr",
     "output_type": "stream",
     "text": [
      "\n"
     ]
    },
    {
     "name": "stdout",
     "output_type": "stream",
     "text": [
      "\n",
      "      Epoch    GPU_mem   box_loss   cls_loss   dfl_loss  Instances       Size\n"
     ]
    },
    {
     "name": "stderr",
     "output_type": "stream",
     "text": [
      "      17/50      1.42G      1.526      1.988      1.616         13        640: 100%|██████████| 421/421 [02:39<00:00,  2.64it/s]\n",
      "                 Class     Images  Instances      Box(P          R      mAP50  mAP50-95): 100%|██████████| 80/80 [00:13<00:00,  5.86it/s]"
     ]
    },
    {
     "name": "stdout",
     "output_type": "stream",
     "text": [
      "                   all        637        927      0.528      0.456      0.481      0.258\n"
     ]
    },
    {
     "name": "stderr",
     "output_type": "stream",
     "text": [
      "\n"
     ]
    },
    {
     "name": "stdout",
     "output_type": "stream",
     "text": [
      "\n",
      "      Epoch    GPU_mem   box_loss   cls_loss   dfl_loss  Instances       Size\n"
     ]
    },
    {
     "name": "stderr",
     "output_type": "stream",
     "text": [
      "      18/50      1.43G       1.51      1.965      1.605          0        640: 100%|██████████| 421/421 [02:39<00:00,  2.64it/s]\n",
      "                 Class     Images  Instances      Box(P          R      mAP50  mAP50-95): 100%|██████████| 80/80 [00:13<00:00,  5.83it/s]"
     ]
    },
    {
     "name": "stdout",
     "output_type": "stream",
     "text": [
      "                   all        637        927      0.542      0.481      0.505      0.288\n"
     ]
    },
    {
     "name": "stderr",
     "output_type": "stream",
     "text": [
      "\n"
     ]
    },
    {
     "name": "stdout",
     "output_type": "stream",
     "text": [
      "\n",
      "      Epoch    GPU_mem   box_loss   cls_loss   dfl_loss  Instances       Size\n"
     ]
    },
    {
     "name": "stderr",
     "output_type": "stream",
     "text": [
      "      19/50      1.44G      1.448      1.963      1.557          9        640: 100%|██████████| 421/421 [02:39<00:00,  2.64it/s]\n",
      "                 Class     Images  Instances      Box(P          R      mAP50  mAP50-95): 100%|██████████| 80/80 [00:13<00:00,  5.79it/s]"
     ]
    },
    {
     "name": "stdout",
     "output_type": "stream",
     "text": [
      "                   all        637        927      0.488      0.531      0.525      0.294\n"
     ]
    },
    {
     "name": "stderr",
     "output_type": "stream",
     "text": [
      "\n"
     ]
    },
    {
     "name": "stdout",
     "output_type": "stream",
     "text": [
      "\n",
      "      Epoch    GPU_mem   box_loss   cls_loss   dfl_loss  Instances       Size\n"
     ]
    },
    {
     "name": "stderr",
     "output_type": "stream",
     "text": [
      "      20/50      1.42G      1.469      1.847      1.579          0        640: 100%|██████████| 421/421 [02:39<00:00,  2.63it/s]\n",
      "                 Class     Images  Instances      Box(P          R      mAP50  mAP50-95): 100%|██████████| 80/80 [00:13<00:00,  5.79it/s]"
     ]
    },
    {
     "name": "stdout",
     "output_type": "stream",
     "text": [
      "                   all        637        927      0.505       0.52      0.525      0.304\n"
     ]
    },
    {
     "name": "stderr",
     "output_type": "stream",
     "text": [
      "\n"
     ]
    },
    {
     "name": "stdout",
     "output_type": "stream",
     "text": [
      "\n",
      "      Epoch    GPU_mem   box_loss   cls_loss   dfl_loss  Instances       Size\n"
     ]
    },
    {
     "name": "stderr",
     "output_type": "stream",
     "text": [
      "      21/50      1.43G      1.442      1.799      1.545          2        640: 100%|██████████| 421/421 [02:39<00:00,  2.64it/s]\n",
      "                 Class     Images  Instances      Box(P          R      mAP50  mAP50-95): 100%|██████████| 80/80 [00:13<00:00,  5.86it/s]"
     ]
    },
    {
     "name": "stdout",
     "output_type": "stream",
     "text": [
      "                   all        637        927      0.527      0.505      0.519      0.281\n"
     ]
    },
    {
     "name": "stderr",
     "output_type": "stream",
     "text": [
      "\n"
     ]
    },
    {
     "name": "stdout",
     "output_type": "stream",
     "text": [
      "\n",
      "      Epoch    GPU_mem   box_loss   cls_loss   dfl_loss  Instances       Size\n"
     ]
    },
    {
     "name": "stderr",
     "output_type": "stream",
     "text": [
      "      22/50      1.43G      1.446       1.89      1.564         14        640: 100%|██████████| 421/421 [02:39<00:00,  2.64it/s]\n",
      "                 Class     Images  Instances      Box(P          R      mAP50  mAP50-95): 100%|██████████| 80/80 [00:13<00:00,  5.84it/s]"
     ]
    },
    {
     "name": "stdout",
     "output_type": "stream",
     "text": [
      "                   all        637        927      0.523      0.503      0.522      0.306\n"
     ]
    },
    {
     "name": "stderr",
     "output_type": "stream",
     "text": [
      "\n"
     ]
    },
    {
     "name": "stdout",
     "output_type": "stream",
     "text": [
      "\n",
      "      Epoch    GPU_mem   box_loss   cls_loss   dfl_loss  Instances       Size\n"
     ]
    },
    {
     "name": "stderr",
     "output_type": "stream",
     "text": [
      "      23/50      1.43G      1.431      1.846      1.554          0        640: 100%|██████████| 421/421 [02:39<00:00,  2.64it/s]\n",
      "                 Class     Images  Instances      Box(P          R      mAP50  mAP50-95): 100%|██████████| 80/80 [00:13<00:00,  5.81it/s]"
     ]
    },
    {
     "name": "stdout",
     "output_type": "stream",
     "text": [
      "                   all        637        927      0.551      0.502      0.547      0.311\n"
     ]
    },
    {
     "name": "stderr",
     "output_type": "stream",
     "text": [
      "\n"
     ]
    },
    {
     "name": "stdout",
     "output_type": "stream",
     "text": [
      "\n",
      "      Epoch    GPU_mem   box_loss   cls_loss   dfl_loss  Instances       Size\n"
     ]
    },
    {
     "name": "stderr",
     "output_type": "stream",
     "text": [
      "      24/50      1.44G      1.406      1.748      1.542         13        640: 100%|██████████| 421/421 [02:39<00:00,  2.64it/s]\n",
      "                 Class     Images  Instances      Box(P          R      mAP50  mAP50-95): 100%|██████████| 80/80 [00:13<00:00,  5.85it/s]"
     ]
    },
    {
     "name": "stdout",
     "output_type": "stream",
     "text": [
      "                   all        637        927      0.595       0.53      0.568      0.333\n"
     ]
    },
    {
     "name": "stderr",
     "output_type": "stream",
     "text": [
      "\n"
     ]
    },
    {
     "name": "stdout",
     "output_type": "stream",
     "text": [
      "\n",
      "      Epoch    GPU_mem   box_loss   cls_loss   dfl_loss  Instances       Size\n"
     ]
    },
    {
     "name": "stderr",
     "output_type": "stream",
     "text": [
      "      25/50      1.43G      1.381      1.749      1.501          6        640: 100%|██████████| 421/421 [02:39<00:00,  2.64it/s]\n",
      "                 Class     Images  Instances      Box(P          R      mAP50  mAP50-95): 100%|██████████| 80/80 [00:13<00:00,  5.82it/s]"
     ]
    },
    {
     "name": "stdout",
     "output_type": "stream",
     "text": [
      "                   all        637        927      0.568      0.532      0.563      0.316\n"
     ]
    },
    {
     "name": "stderr",
     "output_type": "stream",
     "text": [
      "\n"
     ]
    },
    {
     "name": "stdout",
     "output_type": "stream",
     "text": [
      "\n",
      "      Epoch    GPU_mem   box_loss   cls_loss   dfl_loss  Instances       Size\n"
     ]
    },
    {
     "name": "stderr",
     "output_type": "stream",
     "text": [
      "      26/50      1.44G      1.407      1.748      1.545          2        640: 100%|██████████| 421/421 [02:38<00:00,  2.65it/s]\n",
      "                 Class     Images  Instances      Box(P          R      mAP50  mAP50-95): 100%|██████████| 80/80 [00:13<00:00,  5.83it/s]"
     ]
    },
    {
     "name": "stdout",
     "output_type": "stream",
     "text": [
      "                   all        637        927      0.544      0.558      0.553      0.322\n"
     ]
    },
    {
     "name": "stderr",
     "output_type": "stream",
     "text": [
      "\n"
     ]
    },
    {
     "name": "stdout",
     "output_type": "stream",
     "text": [
      "\n",
      "      Epoch    GPU_mem   box_loss   cls_loss   dfl_loss  Instances       Size\n"
     ]
    },
    {
     "name": "stderr",
     "output_type": "stream",
     "text": [
      "      27/50      1.44G      1.379       1.71      1.499         12        640: 100%|██████████| 421/421 [02:39<00:00,  2.64it/s]\n",
      "                 Class     Images  Instances      Box(P          R      mAP50  mAP50-95): 100%|██████████| 80/80 [00:13<00:00,  5.83it/s]"
     ]
    },
    {
     "name": "stdout",
     "output_type": "stream",
     "text": [
      "                   all        637        927      0.579      0.551      0.581       0.34\n"
     ]
    },
    {
     "name": "stderr",
     "output_type": "stream",
     "text": [
      "\n"
     ]
    },
    {
     "name": "stdout",
     "output_type": "stream",
     "text": [
      "\n",
      "      Epoch    GPU_mem   box_loss   cls_loss   dfl_loss  Instances       Size\n"
     ]
    },
    {
     "name": "stderr",
     "output_type": "stream",
     "text": [
      "      28/50      1.45G      1.381      1.812      1.511         13        640: 100%|██████████| 421/421 [02:39<00:00,  2.64it/s]\n",
      "                 Class     Images  Instances      Box(P          R      mAP50  mAP50-95): 100%|██████████| 80/80 [00:13<00:00,  5.81it/s]"
     ]
    },
    {
     "name": "stdout",
     "output_type": "stream",
     "text": [
      "                   all        637        927       0.57      0.535      0.548      0.308\n"
     ]
    },
    {
     "name": "stderr",
     "output_type": "stream",
     "text": [
      "\n"
     ]
    },
    {
     "name": "stdout",
     "output_type": "stream",
     "text": [
      "\n",
      "      Epoch    GPU_mem   box_loss   cls_loss   dfl_loss  Instances       Size\n"
     ]
    },
    {
     "name": "stderr",
     "output_type": "stream",
     "text": [
      "      29/50      1.43G      1.374      1.712      1.498         13        640: 100%|██████████| 421/421 [02:39<00:00,  2.64it/s]\n",
      "                 Class     Images  Instances      Box(P          R      mAP50  mAP50-95): 100%|██████████| 80/80 [00:13<00:00,  5.83it/s]"
     ]
    },
    {
     "name": "stdout",
     "output_type": "stream",
     "text": [
      "                   all        637        927      0.531       0.52      0.524      0.304\n"
     ]
    },
    {
     "name": "stderr",
     "output_type": "stream",
     "text": [
      "\n"
     ]
    },
    {
     "name": "stdout",
     "output_type": "stream",
     "text": [
      "\n",
      "      Epoch    GPU_mem   box_loss   cls_loss   dfl_loss  Instances       Size\n"
     ]
    },
    {
     "name": "stderr",
     "output_type": "stream",
     "text": [
      "      30/50      1.44G      1.365       1.73       1.49          2        640: 100%|██████████| 421/421 [02:39<00:00,  2.64it/s]\n",
      "                 Class     Images  Instances      Box(P          R      mAP50  mAP50-95): 100%|██████████| 80/80 [00:13<00:00,  5.86it/s]"
     ]
    },
    {
     "name": "stdout",
     "output_type": "stream",
     "text": [
      "                   all        637        927      0.551      0.519      0.543      0.313\n"
     ]
    },
    {
     "name": "stderr",
     "output_type": "stream",
     "text": [
      "\n"
     ]
    },
    {
     "name": "stdout",
     "output_type": "stream",
     "text": [
      "\n",
      "      Epoch    GPU_mem   box_loss   cls_loss   dfl_loss  Instances       Size\n"
     ]
    },
    {
     "name": "stderr",
     "output_type": "stream",
     "text": [
      "      31/50      1.44G      1.346      1.691      1.485          1        640: 100%|██████████| 421/421 [02:37<00:00,  2.68it/s]\n",
      "                 Class     Images  Instances      Box(P          R      mAP50  mAP50-95): 100%|██████████| 80/80 [00:13<00:00,  5.82it/s]"
     ]
    },
    {
     "name": "stdout",
     "output_type": "stream",
     "text": [
      "                   all        637        927       0.59      0.533      0.579       0.34\n"
     ]
    },
    {
     "name": "stderr",
     "output_type": "stream",
     "text": [
      "\n"
     ]
    },
    {
     "name": "stdout",
     "output_type": "stream",
     "text": [
      "\n",
      "      Epoch    GPU_mem   box_loss   cls_loss   dfl_loss  Instances       Size\n"
     ]
    },
    {
     "name": "stderr",
     "output_type": "stream",
     "text": [
      "      32/50      1.44G      1.343      1.614      1.479          1        640: 100%|██████████| 421/421 [02:39<00:00,  2.64it/s]\n",
      "                 Class     Images  Instances      Box(P          R      mAP50  mAP50-95): 100%|██████████| 80/80 [00:13<00:00,  5.87it/s]"
     ]
    },
    {
     "name": "stdout",
     "output_type": "stream",
     "text": [
      "                   all        637        927      0.561      0.517      0.566      0.327\n"
     ]
    },
    {
     "name": "stderr",
     "output_type": "stream",
     "text": [
      "\n"
     ]
    },
    {
     "name": "stdout",
     "output_type": "stream",
     "text": [
      "\n",
      "      Epoch    GPU_mem   box_loss   cls_loss   dfl_loss  Instances       Size\n"
     ]
    },
    {
     "name": "stderr",
     "output_type": "stream",
     "text": [
      "      33/50      1.41G      1.345       1.73      1.482          1        640: 100%|██████████| 421/421 [02:39<00:00,  2.64it/s]\n",
      "                 Class     Images  Instances      Box(P          R      mAP50  mAP50-95): 100%|██████████| 80/80 [00:13<00:00,  5.84it/s]"
     ]
    },
    {
     "name": "stdout",
     "output_type": "stream",
     "text": [
      "                   all        637        927      0.575      0.526      0.578      0.347\n"
     ]
    },
    {
     "name": "stderr",
     "output_type": "stream",
     "text": [
      "\n"
     ]
    },
    {
     "name": "stdout",
     "output_type": "stream",
     "text": [
      "\n",
      "      Epoch    GPU_mem   box_loss   cls_loss   dfl_loss  Instances       Size\n"
     ]
    },
    {
     "name": "stderr",
     "output_type": "stream",
     "text": [
      "      34/50      1.44G      1.316       1.65      1.448          2        640: 100%|██████████| 421/421 [02:39<00:00,  2.64it/s]\n",
      "                 Class     Images  Instances      Box(P          R      mAP50  mAP50-95): 100%|██████████| 80/80 [00:13<00:00,  5.84it/s]"
     ]
    },
    {
     "name": "stdout",
     "output_type": "stream",
     "text": [
      "                   all        637        927      0.613      0.534      0.601      0.362\n"
     ]
    },
    {
     "name": "stderr",
     "output_type": "stream",
     "text": [
      "\n"
     ]
    },
    {
     "name": "stdout",
     "output_type": "stream",
     "text": [
      "\n",
      "      Epoch    GPU_mem   box_loss   cls_loss   dfl_loss  Instances       Size\n"
     ]
    },
    {
     "name": "stderr",
     "output_type": "stream",
     "text": [
      "      35/50      1.43G       1.33       1.63      1.474          0        640: 100%|██████████| 421/421 [02:39<00:00,  2.64it/s]\n",
      "                 Class     Images  Instances      Box(P          R      mAP50  mAP50-95): 100%|██████████| 80/80 [00:13<00:00,  5.85it/s]"
     ]
    },
    {
     "name": "stdout",
     "output_type": "stream",
     "text": [
      "                   all        637        927      0.596      0.558      0.588      0.351\n"
     ]
    },
    {
     "name": "stderr",
     "output_type": "stream",
     "text": [
      "\n"
     ]
    },
    {
     "name": "stdout",
     "output_type": "stream",
     "text": [
      "\n",
      "      Epoch    GPU_mem   box_loss   cls_loss   dfl_loss  Instances       Size\n"
     ]
    },
    {
     "name": "stderr",
     "output_type": "stream",
     "text": [
      "      36/50      1.42G      1.313      1.604      1.467          6        640: 100%|██████████| 421/421 [02:39<00:00,  2.64it/s]\n",
      "                 Class     Images  Instances      Box(P          R      mAP50  mAP50-95): 100%|██████████| 80/80 [00:13<00:00,  5.88it/s]"
     ]
    },
    {
     "name": "stdout",
     "output_type": "stream",
     "text": [
      "                   all        637        927      0.599      0.533      0.589      0.354\n"
     ]
    },
    {
     "name": "stderr",
     "output_type": "stream",
     "text": [
      "\n"
     ]
    },
    {
     "name": "stdout",
     "output_type": "stream",
     "text": [
      "\n",
      "      Epoch    GPU_mem   box_loss   cls_loss   dfl_loss  Instances       Size\n"
     ]
    },
    {
     "name": "stderr",
     "output_type": "stream",
     "text": [
      "      37/50      1.44G      1.287      1.629      1.448         11        640: 100%|██████████| 421/421 [02:39<00:00,  2.64it/s]\n",
      "                 Class     Images  Instances      Box(P          R      mAP50  mAP50-95): 100%|██████████| 80/80 [00:13<00:00,  5.84it/s]"
     ]
    },
    {
     "name": "stdout",
     "output_type": "stream",
     "text": [
      "                   all        637        927      0.571      0.562      0.588      0.351\n"
     ]
    },
    {
     "name": "stderr",
     "output_type": "stream",
     "text": [
      "\n"
     ]
    },
    {
     "name": "stdout",
     "output_type": "stream",
     "text": [
      "\n",
      "      Epoch    GPU_mem   box_loss   cls_loss   dfl_loss  Instances       Size\n"
     ]
    },
    {
     "name": "stderr",
     "output_type": "stream",
     "text": [
      "      38/50      1.43G      1.275      1.508      1.457          4        640: 100%|██████████| 421/421 [02:39<00:00,  2.64it/s]\n",
      "                 Class     Images  Instances      Box(P          R      mAP50  mAP50-95): 100%|██████████| 80/80 [00:13<00:00,  5.88it/s]"
     ]
    },
    {
     "name": "stdout",
     "output_type": "stream",
     "text": [
      "                   all        637        927      0.594      0.559      0.591      0.349\n"
     ]
    },
    {
     "name": "stderr",
     "output_type": "stream",
     "text": [
      "\n"
     ]
    },
    {
     "name": "stdout",
     "output_type": "stream",
     "text": [
      "\n",
      "      Epoch    GPU_mem   box_loss   cls_loss   dfl_loss  Instances       Size\n"
     ]
    },
    {
     "name": "stderr",
     "output_type": "stream",
     "text": [
      "      39/50      1.43G      1.301      1.554      1.458         15        640: 100%|██████████| 421/421 [02:39<00:00,  2.64it/s]\n",
      "                 Class     Images  Instances      Box(P          R      mAP50  mAP50-95): 100%|██████████| 80/80 [00:13<00:00,  5.87it/s]"
     ]
    },
    {
     "name": "stdout",
     "output_type": "stream",
     "text": [
      "                   all        637        927      0.591      0.558      0.595      0.355\n"
     ]
    },
    {
     "name": "stderr",
     "output_type": "stream",
     "text": [
      "\n"
     ]
    },
    {
     "name": "stdout",
     "output_type": "stream",
     "text": [
      "\n",
      "      Epoch    GPU_mem   box_loss   cls_loss   dfl_loss  Instances       Size\n"
     ]
    },
    {
     "name": "stderr",
     "output_type": "stream",
     "text": [
      "      40/50      1.43G      1.312      1.511      1.471          1        640: 100%|██████████| 421/421 [02:39<00:00,  2.64it/s]\n",
      "                 Class     Images  Instances      Box(P          R      mAP50  mAP50-95): 100%|██████████| 80/80 [00:13<00:00,  5.98it/s]"
     ]
    },
    {
     "name": "stdout",
     "output_type": "stream",
     "text": [
      "                   all        637        927      0.573      0.567      0.584      0.349\n"
     ]
    },
    {
     "name": "stderr",
     "output_type": "stream",
     "text": [
      "\n"
     ]
    },
    {
     "name": "stdout",
     "output_type": "stream",
     "text": [
      "Closing dataloader mosaic\n",
      "\n",
      "      Epoch    GPU_mem   box_loss   cls_loss   dfl_loss  Instances       Size\n"
     ]
    },
    {
     "name": "stderr",
     "output_type": "stream",
     "text": [
      "      41/50      1.44G      1.092      1.336      1.231          3        640: 100%|██████████| 421/421 [02:34<00:00,  2.73it/s]\n",
      "                 Class     Images  Instances      Box(P          R      mAP50  mAP50-95): 100%|██████████| 80/80 [00:13<00:00,  5.85it/s]"
     ]
    },
    {
     "name": "stdout",
     "output_type": "stream",
     "text": [
      "                   all        637        927      0.582      0.525      0.589      0.361\n"
     ]
    },
    {
     "name": "stderr",
     "output_type": "stream",
     "text": [
      "\n"
     ]
    },
    {
     "name": "stdout",
     "output_type": "stream",
     "text": [
      "\n",
      "      Epoch    GPU_mem   box_loss   cls_loss   dfl_loss  Instances       Size\n"
     ]
    },
    {
     "name": "stderr",
     "output_type": "stream",
     "text": [
      "      42/50      1.43G        1.1      1.282      1.251          4        640: 100%|██████████| 421/421 [02:36<00:00,  2.70it/s]\n",
      "                 Class     Images  Instances      Box(P          R      mAP50  mAP50-95): 100%|██████████| 80/80 [00:13<00:00,  6.10it/s]"
     ]
    },
    {
     "name": "stdout",
     "output_type": "stream",
     "text": [
      "                   all        637        927      0.576      0.575      0.582      0.347\n"
     ]
    },
    {
     "name": "stderr",
     "output_type": "stream",
     "text": [
      "\n"
     ]
    },
    {
     "name": "stdout",
     "output_type": "stream",
     "text": [
      "\n",
      "      Epoch    GPU_mem   box_loss   cls_loss   dfl_loss  Instances       Size\n"
     ]
    },
    {
     "name": "stderr",
     "output_type": "stream",
     "text": [
      "      43/50      1.42G      1.079      1.258      1.245          8        640: 100%|██████████| 421/421 [02:38<00:00,  2.66it/s]\n",
      "                 Class     Images  Instances      Box(P          R      mAP50  mAP50-95): 100%|██████████| 80/80 [00:13<00:00,  6.00it/s]"
     ]
    },
    {
     "name": "stdout",
     "output_type": "stream",
     "text": [
      "                   all        637        927      0.639      0.533      0.617      0.386\n"
     ]
    },
    {
     "name": "stderr",
     "output_type": "stream",
     "text": [
      "\n"
     ]
    },
    {
     "name": "stdout",
     "output_type": "stream",
     "text": [
      "\n",
      "      Epoch    GPU_mem   box_loss   cls_loss   dfl_loss  Instances       Size\n"
     ]
    },
    {
     "name": "stderr",
     "output_type": "stream",
     "text": [
      "      44/50      1.44G      1.137      1.245      1.282          5        640: 100%|██████████| 421/421 [02:36<00:00,  2.70it/s]\n",
      "                 Class     Images  Instances      Box(P          R      mAP50  mAP50-95): 100%|██████████| 80/80 [00:13<00:00,  6.09it/s]"
     ]
    },
    {
     "name": "stdout",
     "output_type": "stream",
     "text": [
      "                   all        637        927      0.615      0.533      0.609      0.373\n"
     ]
    },
    {
     "name": "stderr",
     "output_type": "stream",
     "text": [
      "\n"
     ]
    },
    {
     "name": "stdout",
     "output_type": "stream",
     "text": [
      "\n",
      "      Epoch    GPU_mem   box_loss   cls_loss   dfl_loss  Instances       Size\n"
     ]
    },
    {
     "name": "stderr",
     "output_type": "stream",
     "text": [
      "      45/50      1.43G      1.074      1.278       1.25          1        640: 100%|██████████| 421/421 [02:38<00:00,  2.66it/s]\n",
      "                 Class     Images  Instances      Box(P          R      mAP50  mAP50-95): 100%|██████████| 80/80 [00:13<00:00,  5.87it/s]"
     ]
    },
    {
     "name": "stdout",
     "output_type": "stream",
     "text": [
      "                   all        637        927      0.573      0.571      0.601      0.366\n"
     ]
    },
    {
     "name": "stderr",
     "output_type": "stream",
     "text": [
      "\n"
     ]
    },
    {
     "name": "stdout",
     "output_type": "stream",
     "text": [
      "\n",
      "      Epoch    GPU_mem   box_loss   cls_loss   dfl_loss  Instances       Size\n"
     ]
    },
    {
     "name": "stderr",
     "output_type": "stream",
     "text": [
      "      46/50      1.44G      1.051      1.218      1.228          0        640: 100%|██████████| 421/421 [02:37<00:00,  2.68it/s]\n",
      "                 Class     Images  Instances      Box(P          R      mAP50  mAP50-95): 100%|██████████| 80/80 [00:13<00:00,  6.13it/s]"
     ]
    },
    {
     "name": "stdout",
     "output_type": "stream",
     "text": [
      "                   all        637        927      0.631      0.522      0.595      0.369\n"
     ]
    },
    {
     "name": "stderr",
     "output_type": "stream",
     "text": [
      "\n"
     ]
    },
    {
     "name": "stdout",
     "output_type": "stream",
     "text": [
      "\n",
      "      Epoch    GPU_mem   box_loss   cls_loss   dfl_loss  Instances       Size\n"
     ]
    },
    {
     "name": "stderr",
     "output_type": "stream",
     "text": [
      "      47/50      1.43G      1.054      1.244      1.239          0        640: 100%|██████████| 421/421 [02:37<00:00,  2.67it/s]\n",
      "                 Class     Images  Instances      Box(P          R      mAP50  mAP50-95): 100%|██████████| 80/80 [00:13<00:00,  5.91it/s]"
     ]
    },
    {
     "name": "stdout",
     "output_type": "stream",
     "text": [
      "                   all        637        927      0.645      0.566      0.622      0.385\n"
     ]
    },
    {
     "name": "stderr",
     "output_type": "stream",
     "text": [
      "\n"
     ]
    },
    {
     "name": "stdout",
     "output_type": "stream",
     "text": [
      "\n",
      "      Epoch    GPU_mem   box_loss   cls_loss   dfl_loss  Instances       Size\n"
     ]
    },
    {
     "name": "stderr",
     "output_type": "stream",
     "text": [
      "      48/50      1.42G      1.057      1.188       1.24          4        640: 100%|██████████| 421/421 [02:35<00:00,  2.71it/s]\n",
      "                 Class     Images  Instances      Box(P          R      mAP50  mAP50-95): 100%|██████████| 80/80 [00:13<00:00,  5.89it/s]"
     ]
    },
    {
     "name": "stdout",
     "output_type": "stream",
     "text": [
      "                   all        637        927      0.614      0.585      0.628      0.384\n"
     ]
    },
    {
     "name": "stderr",
     "output_type": "stream",
     "text": [
      "\n"
     ]
    },
    {
     "name": "stdout",
     "output_type": "stream",
     "text": [
      "\n",
      "      Epoch    GPU_mem   box_loss   cls_loss   dfl_loss  Instances       Size\n"
     ]
    },
    {
     "name": "stderr",
     "output_type": "stream",
     "text": [
      "      49/50      1.41G      1.064       1.17      1.257          7        640: 100%|██████████| 421/421 [02:38<00:00,  2.66it/s]\n",
      "                 Class     Images  Instances      Box(P          R      mAP50  mAP50-95): 100%|██████████| 80/80 [00:13<00:00,  5.89it/s]"
     ]
    },
    {
     "name": "stdout",
     "output_type": "stream",
     "text": [
      "                   all        637        927      0.607      0.589      0.623      0.387\n"
     ]
    },
    {
     "name": "stderr",
     "output_type": "stream",
     "text": [
      "\n"
     ]
    },
    {
     "name": "stdout",
     "output_type": "stream",
     "text": [
      "\n",
      "      Epoch    GPU_mem   box_loss   cls_loss   dfl_loss  Instances       Size\n"
     ]
    },
    {
     "name": "stderr",
     "output_type": "stream",
     "text": [
      "      50/50      1.44G      1.019      1.143      1.202          5        640: 100%|██████████| 421/421 [02:35<00:00,  2.71it/s]\n",
      "                 Class     Images  Instances      Box(P          R      mAP50  mAP50-95): 100%|██████████| 80/80 [00:13<00:00,  5.99it/s]"
     ]
    },
    {
     "name": "stdout",
     "output_type": "stream",
     "text": [
      "                   all        637        927      0.602      0.585      0.618      0.384\n"
     ]
    },
    {
     "name": "stderr",
     "output_type": "stream",
     "text": [
      "\n"
     ]
    },
    {
     "name": "stdout",
     "output_type": "stream",
     "text": [
      "\n",
      "50 epochs completed in 2.407 hours.\n",
      "Optimizer stripped from runs\\detect\\train\\weights\\last.pt, 22.5MB\n",
      "Optimizer stripped from runs\\detect\\train\\weights\\best.pt, 22.5MB\n",
      "\n",
      "Validating runs\\detect\\train\\weights\\best.pt...\n",
      "Ultralytics 8.3.49  Python-3.12.7 torch-2.5.1+cu118 CUDA:0 (NVIDIA GeForce GTX 1050 Ti, 4096MiB)\n",
      "Model summary (fused): 168 layers, 11,125,971 parameters, 0 gradients, 28.4 GFLOPs\n"
     ]
    },
    {
     "name": "stderr",
     "output_type": "stream",
     "text": [
      "                 Class     Images  Instances      Box(P          R      mAP50  mAP50-95): 100%|██████████| 80/80 [00:12<00:00,  6.42it/s]\n"
     ]
    },
    {
     "name": "stdout",
     "output_type": "stream",
     "text": [
      "                   all        637        927      0.608      0.588      0.623      0.387\n",
      "Speed: 0.3ms preprocess, 16.6ms inference, 0.0ms loss, 0.6ms postprocess per image\n",
      "Results saved to \u001b[1mruns\\detect\\train\u001b[0m\n"
     ]
    },
    {
     "data": {
      "text/plain": [
       "ultralytics.utils.metrics.DetMetrics object with attributes:\n",
       "\n",
       "ap_class_index: array([0])\n",
       "box: ultralytics.utils.metrics.Metric object\n",
       "confusion_matrix: <ultralytics.utils.metrics.ConfusionMatrix object at 0x00000229B3133500>\n",
       "curves: ['Precision-Recall(B)', 'F1-Confidence(B)', 'Precision-Confidence(B)', 'Recall-Confidence(B)']\n",
       "curves_results: [[array([          0,    0.001001,    0.002002,    0.003003,    0.004004,    0.005005,    0.006006,    0.007007,    0.008008,    0.009009,     0.01001,    0.011011,    0.012012,    0.013013,    0.014014,    0.015015,    0.016016,    0.017017,    0.018018,    0.019019,     0.02002,    0.021021,    0.022022,    0.023023,\n",
       "          0.024024,    0.025025,    0.026026,    0.027027,    0.028028,    0.029029,     0.03003,    0.031031,    0.032032,    0.033033,    0.034034,    0.035035,    0.036036,    0.037037,    0.038038,    0.039039,     0.04004,    0.041041,    0.042042,    0.043043,    0.044044,    0.045045,    0.046046,    0.047047,\n",
       "          0.048048,    0.049049,     0.05005,    0.051051,    0.052052,    0.053053,    0.054054,    0.055055,    0.056056,    0.057057,    0.058058,    0.059059,     0.06006,    0.061061,    0.062062,    0.063063,    0.064064,    0.065065,    0.066066,    0.067067,    0.068068,    0.069069,     0.07007,    0.071071,\n",
       "          0.072072,    0.073073,    0.074074,    0.075075,    0.076076,    0.077077,    0.078078,    0.079079,     0.08008,    0.081081,    0.082082,    0.083083,    0.084084,    0.085085,    0.086086,    0.087087,    0.088088,    0.089089,     0.09009,    0.091091,    0.092092,    0.093093,    0.094094,    0.095095,\n",
       "          0.096096,    0.097097,    0.098098,    0.099099,      0.1001,      0.1011,      0.1021,      0.1031,      0.1041,     0.10511,     0.10611,     0.10711,     0.10811,     0.10911,     0.11011,     0.11111,     0.11211,     0.11311,     0.11411,     0.11512,     0.11612,     0.11712,     0.11812,     0.11912,\n",
       "           0.12012,     0.12112,     0.12212,     0.12312,     0.12412,     0.12513,     0.12613,     0.12713,     0.12813,     0.12913,     0.13013,     0.13113,     0.13213,     0.13313,     0.13413,     0.13514,     0.13614,     0.13714,     0.13814,     0.13914,     0.14014,     0.14114,     0.14214,     0.14314,\n",
       "           0.14414,     0.14515,     0.14615,     0.14715,     0.14815,     0.14915,     0.15015,     0.15115,     0.15215,     0.15315,     0.15415,     0.15516,     0.15616,     0.15716,     0.15816,     0.15916,     0.16016,     0.16116,     0.16216,     0.16316,     0.16416,     0.16517,     0.16617,     0.16717,\n",
       "           0.16817,     0.16917,     0.17017,     0.17117,     0.17217,     0.17317,     0.17417,     0.17518,     0.17618,     0.17718,     0.17818,     0.17918,     0.18018,     0.18118,     0.18218,     0.18318,     0.18418,     0.18519,     0.18619,     0.18719,     0.18819,     0.18919,     0.19019,     0.19119,\n",
       "           0.19219,     0.19319,     0.19419,      0.1952,      0.1962,      0.1972,      0.1982,      0.1992,      0.2002,      0.2012,      0.2022,      0.2032,      0.2042,     0.20521,     0.20621,     0.20721,     0.20821,     0.20921,     0.21021,     0.21121,     0.21221,     0.21321,     0.21421,     0.21522,\n",
       "           0.21622,     0.21722,     0.21822,     0.21922,     0.22022,     0.22122,     0.22222,     0.22322,     0.22422,     0.22523,     0.22623,     0.22723,     0.22823,     0.22923,     0.23023,     0.23123,     0.23223,     0.23323,     0.23423,     0.23524,     0.23624,     0.23724,     0.23824,     0.23924,\n",
       "           0.24024,     0.24124,     0.24224,     0.24324,     0.24424,     0.24525,     0.24625,     0.24725,     0.24825,     0.24925,     0.25025,     0.25125,     0.25225,     0.25325,     0.25425,     0.25526,     0.25626,     0.25726,     0.25826,     0.25926,     0.26026,     0.26126,     0.26226,     0.26326,\n",
       "           0.26426,     0.26527,     0.26627,     0.26727,     0.26827,     0.26927,     0.27027,     0.27127,     0.27227,     0.27327,     0.27427,     0.27528,     0.27628,     0.27728,     0.27828,     0.27928,     0.28028,     0.28128,     0.28228,     0.28328,     0.28428,     0.28529,     0.28629,     0.28729,\n",
       "           0.28829,     0.28929,     0.29029,     0.29129,     0.29229,     0.29329,     0.29429,      0.2953,      0.2963,      0.2973,      0.2983,      0.2993,      0.3003,      0.3013,      0.3023,      0.3033,      0.3043,     0.30531,     0.30631,     0.30731,     0.30831,     0.30931,     0.31031,     0.31131,\n",
       "           0.31231,     0.31331,     0.31431,     0.31532,     0.31632,     0.31732,     0.31832,     0.31932,     0.32032,     0.32132,     0.32232,     0.32332,     0.32432,     0.32533,     0.32633,     0.32733,     0.32833,     0.32933,     0.33033,     0.33133,     0.33233,     0.33333,     0.33433,     0.33534,\n",
       "           0.33634,     0.33734,     0.33834,     0.33934,     0.34034,     0.34134,     0.34234,     0.34334,     0.34434,     0.34535,     0.34635,     0.34735,     0.34835,     0.34935,     0.35035,     0.35135,     0.35235,     0.35335,     0.35435,     0.35536,     0.35636,     0.35736,     0.35836,     0.35936,\n",
       "           0.36036,     0.36136,     0.36236,     0.36336,     0.36436,     0.36537,     0.36637,     0.36737,     0.36837,     0.36937,     0.37037,     0.37137,     0.37237,     0.37337,     0.37437,     0.37538,     0.37638,     0.37738,     0.37838,     0.37938,     0.38038,     0.38138,     0.38238,     0.38338,\n",
       "           0.38438,     0.38539,     0.38639,     0.38739,     0.38839,     0.38939,     0.39039,     0.39139,     0.39239,     0.39339,     0.39439,      0.3954,      0.3964,      0.3974,      0.3984,      0.3994,      0.4004,      0.4014,      0.4024,      0.4034,      0.4044,     0.40541,     0.40641,     0.40741,\n",
       "           0.40841,     0.40941,     0.41041,     0.41141,     0.41241,     0.41341,     0.41441,     0.41542,     0.41642,     0.41742,     0.41842,     0.41942,     0.42042,     0.42142,     0.42242,     0.42342,     0.42442,     0.42543,     0.42643,     0.42743,     0.42843,     0.42943,     0.43043,     0.43143,\n",
       "           0.43243,     0.43343,     0.43443,     0.43544,     0.43644,     0.43744,     0.43844,     0.43944,     0.44044,     0.44144,     0.44244,     0.44344,     0.44444,     0.44545,     0.44645,     0.44745,     0.44845,     0.44945,     0.45045,     0.45145,     0.45245,     0.45345,     0.45445,     0.45546,\n",
       "           0.45646,     0.45746,     0.45846,     0.45946,     0.46046,     0.46146,     0.46246,     0.46346,     0.46446,     0.46547,     0.46647,     0.46747,     0.46847,     0.46947,     0.47047,     0.47147,     0.47247,     0.47347,     0.47447,     0.47548,     0.47648,     0.47748,     0.47848,     0.47948,\n",
       "           0.48048,     0.48148,     0.48248,     0.48348,     0.48448,     0.48549,     0.48649,     0.48749,     0.48849,     0.48949,     0.49049,     0.49149,     0.49249,     0.49349,     0.49449,      0.4955,      0.4965,      0.4975,      0.4985,      0.4995,      0.5005,      0.5015,      0.5025,      0.5035,\n",
       "            0.5045,     0.50551,     0.50651,     0.50751,     0.50851,     0.50951,     0.51051,     0.51151,     0.51251,     0.51351,     0.51451,     0.51552,     0.51652,     0.51752,     0.51852,     0.51952,     0.52052,     0.52152,     0.52252,     0.52352,     0.52452,     0.52553,     0.52653,     0.52753,\n",
       "           0.52853,     0.52953,     0.53053,     0.53153,     0.53253,     0.53353,     0.53453,     0.53554,     0.53654,     0.53754,     0.53854,     0.53954,     0.54054,     0.54154,     0.54254,     0.54354,     0.54454,     0.54555,     0.54655,     0.54755,     0.54855,     0.54955,     0.55055,     0.55155,\n",
       "           0.55255,     0.55355,     0.55455,     0.55556,     0.55656,     0.55756,     0.55856,     0.55956,     0.56056,     0.56156,     0.56256,     0.56356,     0.56456,     0.56557,     0.56657,     0.56757,     0.56857,     0.56957,     0.57057,     0.57157,     0.57257,     0.57357,     0.57457,     0.57558,\n",
       "           0.57658,     0.57758,     0.57858,     0.57958,     0.58058,     0.58158,     0.58258,     0.58358,     0.58458,     0.58559,     0.58659,     0.58759,     0.58859,     0.58959,     0.59059,     0.59159,     0.59259,     0.59359,     0.59459,      0.5956,      0.5966,      0.5976,      0.5986,      0.5996,\n",
       "            0.6006,      0.6016,      0.6026,      0.6036,      0.6046,     0.60561,     0.60661,     0.60761,     0.60861,     0.60961,     0.61061,     0.61161,     0.61261,     0.61361,     0.61461,     0.61562,     0.61662,     0.61762,     0.61862,     0.61962,     0.62062,     0.62162,     0.62262,     0.62362,\n",
       "           0.62462,     0.62563,     0.62663,     0.62763,     0.62863,     0.62963,     0.63063,     0.63163,     0.63263,     0.63363,     0.63463,     0.63564,     0.63664,     0.63764,     0.63864,     0.63964,     0.64064,     0.64164,     0.64264,     0.64364,     0.64464,     0.64565,     0.64665,     0.64765,\n",
       "           0.64865,     0.64965,     0.65065,     0.65165,     0.65265,     0.65365,     0.65465,     0.65566,     0.65666,     0.65766,     0.65866,     0.65966,     0.66066,     0.66166,     0.66266,     0.66366,     0.66466,     0.66567,     0.66667,     0.66767,     0.66867,     0.66967,     0.67067,     0.67167,\n",
       "           0.67267,     0.67367,     0.67467,     0.67568,     0.67668,     0.67768,     0.67868,     0.67968,     0.68068,     0.68168,     0.68268,     0.68368,     0.68468,     0.68569,     0.68669,     0.68769,     0.68869,     0.68969,     0.69069,     0.69169,     0.69269,     0.69369,     0.69469,      0.6957,\n",
       "            0.6967,      0.6977,      0.6987,      0.6997,      0.7007,      0.7017,      0.7027,      0.7037,      0.7047,     0.70571,     0.70671,     0.70771,     0.70871,     0.70971,     0.71071,     0.71171,     0.71271,     0.71371,     0.71471,     0.71572,     0.71672,     0.71772,     0.71872,     0.71972,\n",
       "           0.72072,     0.72172,     0.72272,     0.72372,     0.72472,     0.72573,     0.72673,     0.72773,     0.72873,     0.72973,     0.73073,     0.73173,     0.73273,     0.73373,     0.73473,     0.73574,     0.73674,     0.73774,     0.73874,     0.73974,     0.74074,     0.74174,     0.74274,     0.74374,\n",
       "           0.74474,     0.74575,     0.74675,     0.74775,     0.74875,     0.74975,     0.75075,     0.75175,     0.75275,     0.75375,     0.75475,     0.75576,     0.75676,     0.75776,     0.75876,     0.75976,     0.76076,     0.76176,     0.76276,     0.76376,     0.76476,     0.76577,     0.76677,     0.76777,\n",
       "           0.76877,     0.76977,     0.77077,     0.77177,     0.77277,     0.77377,     0.77477,     0.77578,     0.77678,     0.77778,     0.77878,     0.77978,     0.78078,     0.78178,     0.78278,     0.78378,     0.78478,     0.78579,     0.78679,     0.78779,     0.78879,     0.78979,     0.79079,     0.79179,\n",
       "           0.79279,     0.79379,     0.79479,      0.7958,      0.7968,      0.7978,      0.7988,      0.7998,      0.8008,      0.8018,      0.8028,      0.8038,      0.8048,     0.80581,     0.80681,     0.80781,     0.80881,     0.80981,     0.81081,     0.81181,     0.81281,     0.81381,     0.81481,     0.81582,\n",
       "           0.81682,     0.81782,     0.81882,     0.81982,     0.82082,     0.82182,     0.82282,     0.82382,     0.82482,     0.82583,     0.82683,     0.82783,     0.82883,     0.82983,     0.83083,     0.83183,     0.83283,     0.83383,     0.83483,     0.83584,     0.83684,     0.83784,     0.83884,     0.83984,\n",
       "           0.84084,     0.84184,     0.84284,     0.84384,     0.84484,     0.84585,     0.84685,     0.84785,     0.84885,     0.84985,     0.85085,     0.85185,     0.85285,     0.85385,     0.85485,     0.85586,     0.85686,     0.85786,     0.85886,     0.85986,     0.86086,     0.86186,     0.86286,     0.86386,\n",
       "           0.86486,     0.86587,     0.86687,     0.86787,     0.86887,     0.86987,     0.87087,     0.87187,     0.87287,     0.87387,     0.87487,     0.87588,     0.87688,     0.87788,     0.87888,     0.87988,     0.88088,     0.88188,     0.88288,     0.88388,     0.88488,     0.88589,     0.88689,     0.88789,\n",
       "           0.88889,     0.88989,     0.89089,     0.89189,     0.89289,     0.89389,     0.89489,      0.8959,      0.8969,      0.8979,      0.8989,      0.8999,      0.9009,      0.9019,      0.9029,      0.9039,      0.9049,     0.90591,     0.90691,     0.90791,     0.90891,     0.90991,     0.91091,     0.91191,\n",
       "           0.91291,     0.91391,     0.91491,     0.91592,     0.91692,     0.91792,     0.91892,     0.91992,     0.92092,     0.92192,     0.92292,     0.92392,     0.92492,     0.92593,     0.92693,     0.92793,     0.92893,     0.92993,     0.93093,     0.93193,     0.93293,     0.93393,     0.93493,     0.93594,\n",
       "           0.93694,     0.93794,     0.93894,     0.93994,     0.94094,     0.94194,     0.94294,     0.94394,     0.94494,     0.94595,     0.94695,     0.94795,     0.94895,     0.94995,     0.95095,     0.95195,     0.95295,     0.95395,     0.95495,     0.95596,     0.95696,     0.95796,     0.95896,     0.95996,\n",
       "           0.96096,     0.96196,     0.96296,     0.96396,     0.96496,     0.96597,     0.96697,     0.96797,     0.96897,     0.96997,     0.97097,     0.97197,     0.97297,     0.97397,     0.97497,     0.97598,     0.97698,     0.97798,     0.97898,     0.97998,     0.98098,     0.98198,     0.98298,     0.98398,\n",
       "           0.98498,     0.98599,     0.98699,     0.98799,     0.98899,     0.98999,     0.99099,     0.99199,     0.99299,     0.99399,     0.99499,       0.996,       0.997,       0.998,       0.999,           1]), array([[          1,           1,           1,           1,           1,           1,           1,           1,           1,           1,           1,           1,           1,           1,           1,           1,           1,           1,           1,           1,           1,           1,           1,\n",
       "                  1,           1,           1,           1,           1,           1,           1,           1,           1,           1,           1,           1,           1,           1,           1,           1,           1,           1,           1,           1,           1,           1,           1,\n",
       "                  1,           1,           1,           1,           1,           1,           1,           1,     0.97333,     0.97333,     0.97333,     0.97333,     0.97333,     0.97333,     0.97333,     0.97333,     0.97333,     0.97333,     0.97333,     0.97333,     0.97333,     0.97333,     0.97333,\n",
       "            0.97333,     0.97333,     0.97333,     0.97333,     0.97333,     0.97333,     0.97333,     0.97333,     0.97333,     0.97333,     0.97248,     0.97248,     0.97248,     0.97248,     0.97248,     0.97248,     0.97248,     0.97248,     0.97248,     0.97248,     0.97248,     0.97248,     0.97248,\n",
       "            0.97248,     0.97248,     0.97248,     0.97248,     0.97248,     0.97248,     0.97248,     0.97248,     0.97248,     0.97248,     0.97248,     0.97248,     0.97248,     0.97248,     0.97248,     0.97248,     0.97248,     0.97248,     0.97248,     0.97248,     0.97248,     0.97248,     0.97248,\n",
       "            0.96396,      0.9635,      0.9635,      0.9635,      0.9635,      0.9635,      0.9635,      0.9635,      0.9635,      0.9635,      0.9635,      0.9635,      0.9635,      0.9635,      0.9635,      0.9635,      0.9635,      0.9635,      0.9635,      0.9635,      0.9635,      0.9635,      0.9635,\n",
       "             0.9635,      0.9635,      0.9635,      0.9635,      0.9635,     0.95714,     0.95714,     0.95205,     0.95205,     0.95205,     0.95205,     0.95205,     0.94118,     0.94118,     0.94118,     0.94118,     0.94118,     0.94118,      0.9375,      0.9375,      0.9375,      0.9375,      0.9375,\n",
       "             0.9375,     0.93529,     0.93529,     0.93529,     0.93529,     0.93529,     0.93529,     0.93529,     0.93529,     0.93529,     0.93529,     0.93023,     0.92571,     0.92571,     0.92308,     0.92308,     0.92308,     0.92308,     0.92308,     0.92308,     0.92308,     0.92021,     0.92021,\n",
       "            0.92021,     0.92021,     0.92021,     0.91579,     0.91176,     0.91176,     0.91176,     0.91176,     0.91176,     0.91176,     0.91176,     0.91176,     0.91176,     0.91176,     0.91176,     0.91176,     0.91176,     0.90991,     0.90991,     0.90991,     0.90991,     0.90991,     0.90991,\n",
       "            0.90991,     0.90991,     0.90991,     0.90991,     0.90991,     0.90991,     0.90991,     0.90991,     0.90991,     0.90991,     0.90991,     0.90625,     0.90535,     0.90535,     0.90535,     0.90535,     0.90535,     0.90535,     0.90535,     0.90535,     0.90535,     0.90535,     0.90535,\n",
       "            0.90535,     0.90535,     0.90535,     0.90535,     0.90535,     0.90535,     0.90535,     0.90535,     0.90438,     0.90438,     0.90438,     0.90438,     0.90438,     0.90438,     0.90438,     0.90157,     0.90157,     0.89844,     0.89606,     0.89606,     0.89606,     0.89606,     0.89606,\n",
       "            0.89606,     0.89606,     0.89606,     0.89606,     0.89606,     0.89606,     0.89606,     0.89606,     0.89606,     0.89606,     0.89606,     0.89606,     0.89606,     0.89606,     0.89606,     0.89606,     0.89606,     0.89362,     0.89362,     0.88816,     0.88816,     0.88816,     0.88816,\n",
       "            0.88816,     0.88816,     0.88816,     0.88816,     0.88816,     0.88816,     0.88816,     0.88816,     0.88816,     0.88816,     0.88816,     0.88816,     0.88816,     0.88816,     0.88816,     0.88562,     0.88562,     0.88365,     0.88365,     0.88365,     0.88365,     0.88365,     0.88365,\n",
       "            0.88365,     0.88365,     0.88365,     0.88365,     0.88344,     0.88344,     0.88344,     0.88344,     0.88344,     0.88344,     0.88344,     0.88344,     0.87952,     0.87952,     0.87952,     0.87952,     0.87834,     0.87834,     0.87834,     0.87834,     0.87097,     0.87097,     0.86957,\n",
       "            0.86957,     0.86957,     0.86744,     0.86533,     0.86402,     0.86402,     0.86402,     0.86197,     0.85873,     0.85873,     0.85873,     0.85873,     0.85873,     0.85831,     0.85831,     0.85831,     0.85831,     0.85831,     0.85791,     0.85791,     0.85791,     0.85791,     0.85791,\n",
       "            0.85714,     0.85714,     0.85714,     0.85714,     0.85714,     0.85677,     0.85677,     0.85677,     0.85677,     0.85677,     0.85287,     0.85287,     0.85287,     0.85287,     0.85287,     0.85287,     0.85287,     0.85287,     0.85287,     0.85287,     0.85287,     0.85287,     0.85287,\n",
       "            0.85287,     0.85185,     0.85185,     0.85185,     0.85012,     0.84878,     0.84878,     0.84878,     0.84615,     0.84615,     0.84615,     0.84615,     0.84248,     0.84086,     0.83924,     0.83607,     0.83607,     0.83256,     0.82949,     0.82949,     0.82921,     0.82921,     0.82921,\n",
       "            0.82921,     0.82921,     0.82921,     0.82921,     0.82921,     0.82921,     0.82921,     0.82774,     0.82262,     0.82159,     0.82159,     0.81481,     0.81481,     0.81345,      0.8121,     0.81197,     0.81197,     0.81197,     0.81197,     0.81144,     0.81144,     0.81144,     0.80713,\n",
       "            0.80713,     0.80665,     0.80665,     0.80665,     0.80665,     0.79918,     0.79918,     0.78958,     0.78958,     0.78958,     0.78958,     0.77756,     0.77691,     0.77691,     0.77432,     0.77027,      0.7666,      0.7666,      0.7666,      0.7666,      0.7666,      0.7666,     0.76316,\n",
       "            0.76316,     0.76075,     0.75978,     0.75926,     0.75926,     0.75868,     0.75868,     0.75868,     0.75868,     0.75868,     0.75868,     0.75451,     0.75451,     0.75451,     0.75044,     0.75044,     0.75044,     0.75044,     0.75044,     0.75044,     0.75044,     0.75044,     0.75044,\n",
       "            0.75044,     0.73966,     0.73966,     0.73254,     0.73175,      0.7285,     0.72408,     0.72333,     0.72139,     0.71829,     0.71757,     0.71615,     0.71615,     0.71615,      0.7072,      0.7072,      0.7072,     0.70635,     0.70635,     0.70635,     0.70579,     0.70579,     0.70579,\n",
       "            0.70579,     0.70579,     0.70579,     0.70579,     0.70515,     0.70388,     0.70388,     0.69892,     0.69832,     0.69757,     0.69757,     0.69757,     0.69173,     0.68843,     0.68843,     0.68843,     0.68843,     0.68843,     0.68429,     0.68429,     0.67977,     0.67925,     0.67873,\n",
       "            0.67821,      0.6719,     0.67181,     0.67181,     0.67181,     0.67181,     0.67181,     0.67181,     0.67181,     0.67181,     0.67181,     0.67039,     0.67031,     0.67031,     0.67031,     0.67031,     0.67031,     0.67031,     0.67031,     0.67031,     0.67031,     0.67031,     0.67031,\n",
       "            0.66894,     0.66486,     0.65955,     0.65955,     0.65744,     0.65744,     0.65744,     0.65744,     0.65744,     0.65703,     0.65662,     0.65621,      0.6541,      0.6541,     0.65201,     0.64968,     0.64968,     0.64968,     0.64968,     0.64968,     0.64968,     0.64892,     0.64892,\n",
       "             0.6461,     0.64268,     0.64268,     0.64268,     0.64268,     0.64268,     0.64268,     0.64198,     0.64198,     0.64163,     0.64137,     0.64137,     0.64137,     0.63714,     0.63527,     0.63494,     0.63462,     0.63462,     0.62901,     0.62884,     0.62884,     0.62884,      0.6278,\n",
       "             0.6275,     0.62646,     0.61866,     0.61866,     0.61812,     0.61812,     0.61364,     0.61243,     0.61243,     0.61243,     0.60987,     0.60987,     0.60962,      0.6087,     0.60683,     0.60683,     0.60683,     0.60683,     0.60683,     0.60526,      0.6048,      0.6048,      0.6048,\n",
       "            0.60412,     0.60412,     0.60412,     0.59893,     0.59893,     0.59893,     0.59617,     0.59536,     0.59536,     0.59536,     0.59536,     0.59516,      0.5931,      0.5931,     0.58988,     0.58988,     0.58988,     0.58988,     0.58727,     0.58631,     0.58631,     0.58257,     0.58065,\n",
       "            0.57157,     0.57157,     0.57157,     0.56751,     0.56751,     0.56353,     0.56304,     0.56304,     0.56304,     0.56304,     0.56077,     0.55693,     0.55629,     0.55098,     0.55089,     0.54917,     0.54917,     0.54848,     0.54848,     0.54848,     0.54487,     0.54133,     0.54125,\n",
       "            0.54069,     0.53819,     0.53428,     0.53422,     0.53416,     0.53081,     0.53076,     0.53024,     0.52972,     0.52972,     0.52783,     0.51701,     0.51692,     0.51692,     0.51692,     0.51429,     0.50745,     0.50743,     0.50743,     0.50532,     0.50532,     0.50367,     0.50244,\n",
       "            0.50244,      0.4976,      0.4976,     0.49444,     0.49328,     0.49328,     0.49135,     0.48792,     0.48097,     0.48097,     0.48097,     0.48097,     0.48097,     0.48097,     0.48097,     0.47633,     0.47633,     0.47353,     0.46804,     0.46804,     0.46468,     0.46204,      0.4611,\n",
       "             0.4595,     0.45857,     0.44934,     0.44878,     0.44878,     0.44651,     0.44651,     0.44651,     0.44293,     0.44293,     0.44293,     0.44293,     0.44293,     0.44003,     0.43311,     0.42505,      0.4246,     0.42125,     0.42125,     0.42125,     0.41841,     0.41323,     0.41323,\n",
       "            0.41323,     0.41308,     0.41166,     0.41151,     0.40884,     0.40596,     0.40534,     0.40496,     0.40409,     0.40409,     0.40409,     0.40409,     0.40396,     0.40095,     0.39894,     0.39637,     0.39637,     0.39487,     0.38879,     0.38879,     0.38737,     0.38732,     0.38732,\n",
       "            0.38732,     0.38732,     0.38526,     0.38474,     0.38252,     0.38087,     0.38087,     0.38058,      0.3803,     0.37918,     0.37581,     0.37581,     0.37581,     0.37581,     0.37581,     0.37513,     0.37507,     0.37096,     0.37096,     0.36973,     0.36928,     0.36552,     0.36552,\n",
       "            0.36321,     0.36261,     0.35528,     0.35485,     0.35485,     0.35485,     0.35271,     0.35195,     0.35195,     0.35155,     0.35155,     0.34844,     0.34842,     0.34604,     0.34223,     0.33724,     0.33629,      0.3355,      0.3355,      0.3355,     0.32999,     0.32999,     0.32628,\n",
       "            0.32469,     0.32225,     0.32014,     0.31974,     0.31767,     0.30701,     0.30589,     0.30393,     0.30393,     0.30393,     0.29606,     0.29606,     0.29504,     0.28638,     0.28385,     0.28385,     0.27878,     0.27749,     0.27724,     0.27558,     0.27558,     0.27558,     0.27494,\n",
       "            0.27494,     0.27052,     0.27049,     0.27037,     0.26821,     0.26554,     0.26495,     0.25778,     0.25619,     0.25437,     0.25108,     0.25074,     0.23883,     0.23862,     0.23862,     0.23524,     0.23105,      0.2292,     0.22847,      0.2273,      0.2273,     0.22592,     0.22477,\n",
       "            0.22477,     0.22477,     0.22477,     0.22477,     0.22477,     0.22477,     0.22209,     0.22181,     0.22133,     0.21675,     0.21675,     0.21675,     0.21282,     0.21091,     0.20831,     0.20736,     0.20636,     0.20636,     0.20533,     0.20533,     0.20426,     0.20153,     0.20056,\n",
       "            0.19608,     0.17896,     0.17822,      0.1774,     0.17703,     0.17612,     0.17372,     0.17136,     0.16754,     0.16715,     0.16715,     0.16642,     0.16344,     0.16215,     0.15681,     0.15679,     0.15619,     0.15572,     0.15284,     0.14766,     0.14661,     0.14534,     0.14336,\n",
       "            0.14318,     0.14318,     0.14318,     0.14149,     0.14091,     0.13901,     0.13624,     0.13624,      0.1349,     0.13325,      0.1297,     0.12886,     0.12886,     0.12789,     0.12642,     0.12642,      0.1262,     0.12378,     0.12014,     0.11751,     0.11751,     0.11749,     0.11736,\n",
       "            0.11736,     0.11596,     0.11452,     0.11232,     0.11124,     0.11124,     0.11124,     0.11096,     0.10701,     0.10679,     0.10611,     0.10499,     0.10499,     0.10282,    0.099658,     0.09858,    0.094643,    0.092696,    0.092351,    0.092351,    0.089901,    0.089741,     0.08962,\n",
       "           0.089219,    0.082513,    0.078935,     0.07791,    0.076885,     0.07586,    0.074835,     0.07381,    0.072784,    0.071759,    0.070734,    0.069709,    0.068684,    0.067659,    0.066634,    0.065608,    0.064583,    0.063558,    0.062533,    0.061508,    0.060483,    0.059458,    0.058433,\n",
       "           0.057407,    0.056382,    0.055357,    0.054332,    0.053307,    0.052282,    0.051257,    0.050231,    0.049206,    0.048181,    0.047156,    0.046131,    0.045106,    0.044081,    0.043056,     0.04203,    0.041005,     0.03998,    0.038955,     0.03793,    0.036905,     0.03588,    0.034854,\n",
       "           0.033829,    0.032804,    0.031779,    0.030754,    0.029729,    0.028704,    0.027679,    0.026653,    0.025628,    0.024603,    0.023578,    0.022553,    0.021528,    0.020503,    0.019478,    0.018452,    0.017427,    0.016402,    0.015377,    0.014352,    0.013327,    0.012302,    0.011276,\n",
       "           0.010251,   0.0092262,   0.0082011,   0.0071759,   0.0061508,   0.0051257,   0.0041005,   0.0030754,   0.0020503,   0.0010251,           0]]), 'Recall', 'Precision'], [array([          0,    0.001001,    0.002002,    0.003003,    0.004004,    0.005005,    0.006006,    0.007007,    0.008008,    0.009009,     0.01001,    0.011011,    0.012012,    0.013013,    0.014014,    0.015015,    0.016016,    0.017017,    0.018018,    0.019019,     0.02002,    0.021021,    0.022022,    0.023023,\n",
       "          0.024024,    0.025025,    0.026026,    0.027027,    0.028028,    0.029029,     0.03003,    0.031031,    0.032032,    0.033033,    0.034034,    0.035035,    0.036036,    0.037037,    0.038038,    0.039039,     0.04004,    0.041041,    0.042042,    0.043043,    0.044044,    0.045045,    0.046046,    0.047047,\n",
       "          0.048048,    0.049049,     0.05005,    0.051051,    0.052052,    0.053053,    0.054054,    0.055055,    0.056056,    0.057057,    0.058058,    0.059059,     0.06006,    0.061061,    0.062062,    0.063063,    0.064064,    0.065065,    0.066066,    0.067067,    0.068068,    0.069069,     0.07007,    0.071071,\n",
       "          0.072072,    0.073073,    0.074074,    0.075075,    0.076076,    0.077077,    0.078078,    0.079079,     0.08008,    0.081081,    0.082082,    0.083083,    0.084084,    0.085085,    0.086086,    0.087087,    0.088088,    0.089089,     0.09009,    0.091091,    0.092092,    0.093093,    0.094094,    0.095095,\n",
       "          0.096096,    0.097097,    0.098098,    0.099099,      0.1001,      0.1011,      0.1021,      0.1031,      0.1041,     0.10511,     0.10611,     0.10711,     0.10811,     0.10911,     0.11011,     0.11111,     0.11211,     0.11311,     0.11411,     0.11512,     0.11612,     0.11712,     0.11812,     0.11912,\n",
       "           0.12012,     0.12112,     0.12212,     0.12312,     0.12412,     0.12513,     0.12613,     0.12713,     0.12813,     0.12913,     0.13013,     0.13113,     0.13213,     0.13313,     0.13413,     0.13514,     0.13614,     0.13714,     0.13814,     0.13914,     0.14014,     0.14114,     0.14214,     0.14314,\n",
       "           0.14414,     0.14515,     0.14615,     0.14715,     0.14815,     0.14915,     0.15015,     0.15115,     0.15215,     0.15315,     0.15415,     0.15516,     0.15616,     0.15716,     0.15816,     0.15916,     0.16016,     0.16116,     0.16216,     0.16316,     0.16416,     0.16517,     0.16617,     0.16717,\n",
       "           0.16817,     0.16917,     0.17017,     0.17117,     0.17217,     0.17317,     0.17417,     0.17518,     0.17618,     0.17718,     0.17818,     0.17918,     0.18018,     0.18118,     0.18218,     0.18318,     0.18418,     0.18519,     0.18619,     0.18719,     0.18819,     0.18919,     0.19019,     0.19119,\n",
       "           0.19219,     0.19319,     0.19419,      0.1952,      0.1962,      0.1972,      0.1982,      0.1992,      0.2002,      0.2012,      0.2022,      0.2032,      0.2042,     0.20521,     0.20621,     0.20721,     0.20821,     0.20921,     0.21021,     0.21121,     0.21221,     0.21321,     0.21421,     0.21522,\n",
       "           0.21622,     0.21722,     0.21822,     0.21922,     0.22022,     0.22122,     0.22222,     0.22322,     0.22422,     0.22523,     0.22623,     0.22723,     0.22823,     0.22923,     0.23023,     0.23123,     0.23223,     0.23323,     0.23423,     0.23524,     0.23624,     0.23724,     0.23824,     0.23924,\n",
       "           0.24024,     0.24124,     0.24224,     0.24324,     0.24424,     0.24525,     0.24625,     0.24725,     0.24825,     0.24925,     0.25025,     0.25125,     0.25225,     0.25325,     0.25425,     0.25526,     0.25626,     0.25726,     0.25826,     0.25926,     0.26026,     0.26126,     0.26226,     0.26326,\n",
       "           0.26426,     0.26527,     0.26627,     0.26727,     0.26827,     0.26927,     0.27027,     0.27127,     0.27227,     0.27327,     0.27427,     0.27528,     0.27628,     0.27728,     0.27828,     0.27928,     0.28028,     0.28128,     0.28228,     0.28328,     0.28428,     0.28529,     0.28629,     0.28729,\n",
       "           0.28829,     0.28929,     0.29029,     0.29129,     0.29229,     0.29329,     0.29429,      0.2953,      0.2963,      0.2973,      0.2983,      0.2993,      0.3003,      0.3013,      0.3023,      0.3033,      0.3043,     0.30531,     0.30631,     0.30731,     0.30831,     0.30931,     0.31031,     0.31131,\n",
       "           0.31231,     0.31331,     0.31431,     0.31532,     0.31632,     0.31732,     0.31832,     0.31932,     0.32032,     0.32132,     0.32232,     0.32332,     0.32432,     0.32533,     0.32633,     0.32733,     0.32833,     0.32933,     0.33033,     0.33133,     0.33233,     0.33333,     0.33433,     0.33534,\n",
       "           0.33634,     0.33734,     0.33834,     0.33934,     0.34034,     0.34134,     0.34234,     0.34334,     0.34434,     0.34535,     0.34635,     0.34735,     0.34835,     0.34935,     0.35035,     0.35135,     0.35235,     0.35335,     0.35435,     0.35536,     0.35636,     0.35736,     0.35836,     0.35936,\n",
       "           0.36036,     0.36136,     0.36236,     0.36336,     0.36436,     0.36537,     0.36637,     0.36737,     0.36837,     0.36937,     0.37037,     0.37137,     0.37237,     0.37337,     0.37437,     0.37538,     0.37638,     0.37738,     0.37838,     0.37938,     0.38038,     0.38138,     0.38238,     0.38338,\n",
       "           0.38438,     0.38539,     0.38639,     0.38739,     0.38839,     0.38939,     0.39039,     0.39139,     0.39239,     0.39339,     0.39439,      0.3954,      0.3964,      0.3974,      0.3984,      0.3994,      0.4004,      0.4014,      0.4024,      0.4034,      0.4044,     0.40541,     0.40641,     0.40741,\n",
       "           0.40841,     0.40941,     0.41041,     0.41141,     0.41241,     0.41341,     0.41441,     0.41542,     0.41642,     0.41742,     0.41842,     0.41942,     0.42042,     0.42142,     0.42242,     0.42342,     0.42442,     0.42543,     0.42643,     0.42743,     0.42843,     0.42943,     0.43043,     0.43143,\n",
       "           0.43243,     0.43343,     0.43443,     0.43544,     0.43644,     0.43744,     0.43844,     0.43944,     0.44044,     0.44144,     0.44244,     0.44344,     0.44444,     0.44545,     0.44645,     0.44745,     0.44845,     0.44945,     0.45045,     0.45145,     0.45245,     0.45345,     0.45445,     0.45546,\n",
       "           0.45646,     0.45746,     0.45846,     0.45946,     0.46046,     0.46146,     0.46246,     0.46346,     0.46446,     0.46547,     0.46647,     0.46747,     0.46847,     0.46947,     0.47047,     0.47147,     0.47247,     0.47347,     0.47447,     0.47548,     0.47648,     0.47748,     0.47848,     0.47948,\n",
       "           0.48048,     0.48148,     0.48248,     0.48348,     0.48448,     0.48549,     0.48649,     0.48749,     0.48849,     0.48949,     0.49049,     0.49149,     0.49249,     0.49349,     0.49449,      0.4955,      0.4965,      0.4975,      0.4985,      0.4995,      0.5005,      0.5015,      0.5025,      0.5035,\n",
       "            0.5045,     0.50551,     0.50651,     0.50751,     0.50851,     0.50951,     0.51051,     0.51151,     0.51251,     0.51351,     0.51451,     0.51552,     0.51652,     0.51752,     0.51852,     0.51952,     0.52052,     0.52152,     0.52252,     0.52352,     0.52452,     0.52553,     0.52653,     0.52753,\n",
       "           0.52853,     0.52953,     0.53053,     0.53153,     0.53253,     0.53353,     0.53453,     0.53554,     0.53654,     0.53754,     0.53854,     0.53954,     0.54054,     0.54154,     0.54254,     0.54354,     0.54454,     0.54555,     0.54655,     0.54755,     0.54855,     0.54955,     0.55055,     0.55155,\n",
       "           0.55255,     0.55355,     0.55455,     0.55556,     0.55656,     0.55756,     0.55856,     0.55956,     0.56056,     0.56156,     0.56256,     0.56356,     0.56456,     0.56557,     0.56657,     0.56757,     0.56857,     0.56957,     0.57057,     0.57157,     0.57257,     0.57357,     0.57457,     0.57558,\n",
       "           0.57658,     0.57758,     0.57858,     0.57958,     0.58058,     0.58158,     0.58258,     0.58358,     0.58458,     0.58559,     0.58659,     0.58759,     0.58859,     0.58959,     0.59059,     0.59159,     0.59259,     0.59359,     0.59459,      0.5956,      0.5966,      0.5976,      0.5986,      0.5996,\n",
       "            0.6006,      0.6016,      0.6026,      0.6036,      0.6046,     0.60561,     0.60661,     0.60761,     0.60861,     0.60961,     0.61061,     0.61161,     0.61261,     0.61361,     0.61461,     0.61562,     0.61662,     0.61762,     0.61862,     0.61962,     0.62062,     0.62162,     0.62262,     0.62362,\n",
       "           0.62462,     0.62563,     0.62663,     0.62763,     0.62863,     0.62963,     0.63063,     0.63163,     0.63263,     0.63363,     0.63463,     0.63564,     0.63664,     0.63764,     0.63864,     0.63964,     0.64064,     0.64164,     0.64264,     0.64364,     0.64464,     0.64565,     0.64665,     0.64765,\n",
       "           0.64865,     0.64965,     0.65065,     0.65165,     0.65265,     0.65365,     0.65465,     0.65566,     0.65666,     0.65766,     0.65866,     0.65966,     0.66066,     0.66166,     0.66266,     0.66366,     0.66466,     0.66567,     0.66667,     0.66767,     0.66867,     0.66967,     0.67067,     0.67167,\n",
       "           0.67267,     0.67367,     0.67467,     0.67568,     0.67668,     0.67768,     0.67868,     0.67968,     0.68068,     0.68168,     0.68268,     0.68368,     0.68468,     0.68569,     0.68669,     0.68769,     0.68869,     0.68969,     0.69069,     0.69169,     0.69269,     0.69369,     0.69469,      0.6957,\n",
       "            0.6967,      0.6977,      0.6987,      0.6997,      0.7007,      0.7017,      0.7027,      0.7037,      0.7047,     0.70571,     0.70671,     0.70771,     0.70871,     0.70971,     0.71071,     0.71171,     0.71271,     0.71371,     0.71471,     0.71572,     0.71672,     0.71772,     0.71872,     0.71972,\n",
       "           0.72072,     0.72172,     0.72272,     0.72372,     0.72472,     0.72573,     0.72673,     0.72773,     0.72873,     0.72973,     0.73073,     0.73173,     0.73273,     0.73373,     0.73473,     0.73574,     0.73674,     0.73774,     0.73874,     0.73974,     0.74074,     0.74174,     0.74274,     0.74374,\n",
       "           0.74474,     0.74575,     0.74675,     0.74775,     0.74875,     0.74975,     0.75075,     0.75175,     0.75275,     0.75375,     0.75475,     0.75576,     0.75676,     0.75776,     0.75876,     0.75976,     0.76076,     0.76176,     0.76276,     0.76376,     0.76476,     0.76577,     0.76677,     0.76777,\n",
       "           0.76877,     0.76977,     0.77077,     0.77177,     0.77277,     0.77377,     0.77477,     0.77578,     0.77678,     0.77778,     0.77878,     0.77978,     0.78078,     0.78178,     0.78278,     0.78378,     0.78478,     0.78579,     0.78679,     0.78779,     0.78879,     0.78979,     0.79079,     0.79179,\n",
       "           0.79279,     0.79379,     0.79479,      0.7958,      0.7968,      0.7978,      0.7988,      0.7998,      0.8008,      0.8018,      0.8028,      0.8038,      0.8048,     0.80581,     0.80681,     0.80781,     0.80881,     0.80981,     0.81081,     0.81181,     0.81281,     0.81381,     0.81481,     0.81582,\n",
       "           0.81682,     0.81782,     0.81882,     0.81982,     0.82082,     0.82182,     0.82282,     0.82382,     0.82482,     0.82583,     0.82683,     0.82783,     0.82883,     0.82983,     0.83083,     0.83183,     0.83283,     0.83383,     0.83483,     0.83584,     0.83684,     0.83784,     0.83884,     0.83984,\n",
       "           0.84084,     0.84184,     0.84284,     0.84384,     0.84484,     0.84585,     0.84685,     0.84785,     0.84885,     0.84985,     0.85085,     0.85185,     0.85285,     0.85385,     0.85485,     0.85586,     0.85686,     0.85786,     0.85886,     0.85986,     0.86086,     0.86186,     0.86286,     0.86386,\n",
       "           0.86486,     0.86587,     0.86687,     0.86787,     0.86887,     0.86987,     0.87087,     0.87187,     0.87287,     0.87387,     0.87487,     0.87588,     0.87688,     0.87788,     0.87888,     0.87988,     0.88088,     0.88188,     0.88288,     0.88388,     0.88488,     0.88589,     0.88689,     0.88789,\n",
       "           0.88889,     0.88989,     0.89089,     0.89189,     0.89289,     0.89389,     0.89489,      0.8959,      0.8969,      0.8979,      0.8989,      0.8999,      0.9009,      0.9019,      0.9029,      0.9039,      0.9049,     0.90591,     0.90691,     0.90791,     0.90891,     0.90991,     0.91091,     0.91191,\n",
       "           0.91291,     0.91391,     0.91491,     0.91592,     0.91692,     0.91792,     0.91892,     0.91992,     0.92092,     0.92192,     0.92292,     0.92392,     0.92492,     0.92593,     0.92693,     0.92793,     0.92893,     0.92993,     0.93093,     0.93193,     0.93293,     0.93393,     0.93493,     0.93594,\n",
       "           0.93694,     0.93794,     0.93894,     0.93994,     0.94094,     0.94194,     0.94294,     0.94394,     0.94494,     0.94595,     0.94695,     0.94795,     0.94895,     0.94995,     0.95095,     0.95195,     0.95295,     0.95395,     0.95495,     0.95596,     0.95696,     0.95796,     0.95896,     0.95996,\n",
       "           0.96096,     0.96196,     0.96296,     0.96396,     0.96496,     0.96597,     0.96697,     0.96797,     0.96897,     0.96997,     0.97097,     0.97197,     0.97297,     0.97397,     0.97497,     0.97598,     0.97698,     0.97798,     0.97898,     0.97998,     0.98098,     0.98198,     0.98298,     0.98398,\n",
       "           0.98498,     0.98599,     0.98699,     0.98799,     0.98899,     0.98999,     0.99099,     0.99199,     0.99299,     0.99399,     0.99499,       0.996,       0.997,       0.998,       0.999,           1]), array([[    0.14645,     0.14645,     0.18811,     0.21559,     0.23683,     0.25563,     0.26904,     0.28048,     0.29262,     0.30325,     0.31368,      0.3232,     0.33172,     0.33706,     0.34444,     0.35152,     0.35622,       0.362,     0.36826,     0.37415,     0.38043,     0.38555,     0.39076,\n",
       "            0.39704,     0.40069,     0.40516,     0.41048,     0.41296,      0.4174,     0.42098,     0.42379,     0.42875,     0.43091,     0.43435,     0.43913,     0.44132,      0.4444,     0.44907,      0.4516,     0.45482,     0.45635,      0.4592,     0.46146,     0.46344,     0.46859,     0.46953,\n",
       "            0.47303,     0.47552,     0.47806,     0.47972,     0.48235,     0.48211,     0.48378,     0.48627,     0.48847,     0.49101,     0.49301,     0.49488,     0.49621,     0.49707,     0.50032,     0.49972,     0.50175,      0.5036,     0.50437,     0.50619,     0.50722,     0.50725,     0.50808,\n",
       "             0.5123,     0.51366,     0.51512,     0.51647,     0.51902,     0.51857,     0.51887,     0.52071,     0.52235,     0.52273,     0.52357,     0.52657,     0.52685,     0.52851,     0.52973,     0.53061,     0.53432,     0.53623,     0.53763,     0.53954,      0.5411,       0.543,     0.54123,\n",
       "            0.54399,     0.54421,     0.54504,     0.54674,     0.55024,     0.55161,     0.55262,     0.55331,     0.55504,     0.55609,     0.55774,     0.55982,     0.56043,     0.56062,     0.56248,     0.56381,     0.56286,     0.56097,     0.56144,       0.563,     0.56463,     0.56548,     0.56681,\n",
       "            0.56788,     0.56852,     0.56866,     0.56913,     0.56969,      0.5709,     0.57298,     0.57277,     0.57351,     0.57412,     0.57434,     0.57399,     0.57379,     0.57582,     0.57679,     0.57701,     0.57753,     0.57784,     0.57937,     0.57782,     0.57803,     0.57991,     0.58148,\n",
       "            0.58287,     0.58363,      0.5841,     0.58471,      0.5841,     0.58501,     0.58576,     0.58582,     0.58718,     0.58803,     0.58753,     0.58735,     0.58744,     0.58847,     0.58908,     0.59055,      0.5897,     0.59003,     0.59025,     0.59067,     0.59094,     0.59214,     0.59226,\n",
       "            0.59301,     0.59389,     0.59476,     0.59274,     0.59372,     0.59491,     0.59451,     0.59682,     0.59522,     0.59578,     0.59697,     0.59942,     0.60044,     0.60145,     0.60128,     0.60172,      0.6026,     0.60085,     0.60038,     0.60202,     0.60176,     0.60222,      0.6006,\n",
       "            0.60063,     0.60143,     0.60011,     0.59964,     0.59986,     0.60158,     0.60223,     0.60154,     0.60025,     0.59969,     0.59996,     0.60044,     0.59739,     0.59794,     0.59848,     0.59766,     0.59771,     0.59671,     0.59714,     0.59793,     0.59784,     0.59823,     0.59686,\n",
       "            0.60019,     0.60004,     0.59996,     0.60017,     0.59991,     0.59913,     0.59796,     0.59773,     0.59921,     0.59939,     0.59911,     0.59939,     0.60044,     0.59874,     0.59868,     0.59722,     0.59759,      0.5972,     0.59642,     0.59457,     0.59502,     0.59489,     0.59172,\n",
       "            0.59225,     0.59245,     0.59288,     0.59293,     0.59295,     0.59213,     0.59197,     0.59187,     0.59057,     0.58988,     0.58922,     0.58806,     0.58995,     0.58959,     0.59008,     0.59042,     0.59091,     0.58782,     0.58653,     0.58426,     0.58344,     0.58392,     0.58264,\n",
       "            0.58008,     0.57896,     0.57796,     0.57929,     0.57947,     0.57987,     0.57944,     0.57971,     0.57834,     0.57862,     0.57796,     0.57917,      0.5779,     0.57849,     0.57924,     0.57947,     0.57936,      0.5774,     0.57719,     0.57734,     0.57826,     0.57871,     0.57658,\n",
       "            0.57661,     0.57628,     0.57685,     0.57719,     0.57587,     0.57274,     0.57213,      0.5715,     0.56958,     0.56941,     0.56912,     0.56883,     0.56697,     0.56826,     0.56939,     0.56983,     0.57008,     0.56858,     0.56874,     0.56885,     0.56897,     0.56777,     0.56822,\n",
       "            0.56855,     0.56788,     0.56783,     0.56716,     0.56806,     0.56828,     0.56804,     0.56847,     0.56721,     0.56904,     0.56751,     0.56877,     0.56922,     0.57052,      0.5703,     0.56875,     0.56819,     0.56696,     0.56652,     0.56608,     0.56526,     0.56465,     0.56438,\n",
       "            0.56321,     0.56404,     0.56207,     0.56253,     0.56172,     0.56008,     0.55964,     0.55919,     0.55895,      0.5571,     0.55697,     0.55661,     0.55597,     0.55591,     0.55605,     0.55519,     0.55529,     0.55413,     0.55243,     0.55185,     0.55149,     0.55203,     0.55222,\n",
       "            0.55198,     0.55023,     0.54958,     0.55157,     0.55177,     0.55258,     0.55122,     0.54946,     0.54865,     0.54905,     0.55027,     0.55091,     0.54981,     0.54921,     0.55049,     0.55064,     0.55097,     0.54992,     0.54932,      0.5478,     0.54707,     0.54654,      0.5475,\n",
       "            0.54654,     0.54379,     0.54316,     0.54242,     0.54086,     0.54013,      0.5397,     0.53954,     0.53875,     0.53961,     0.53816,     0.53742,     0.53751,     0.53766,      0.5378,     0.53553,      0.5348,       0.532,     0.53077,     0.52951,      0.5288,     0.52696,     0.52711,\n",
       "            0.52726,     0.52657,     0.52695,     0.52709,     0.52724,     0.52531,      0.5256,     0.52576,     0.52592,     0.52491,     0.52505,      0.5252,     0.52477,      0.5242,     0.52376,     0.52401,     0.52179,     0.52022,     0.52042,     0.52042,     0.51986,     0.51929,     0.51872,\n",
       "            0.51843,     0.51866,      0.5185,     0.51812,     0.51774,     0.51761,     0.51704,     0.51603,     0.51499,      0.5116,     0.51051,     0.50993,     0.50701,     0.50472,     0.50371,     0.50333,     0.50294,     0.50233,     0.50117,     0.50089,     0.50166,     0.50051,     0.49984,\n",
       "            0.49883,     0.49691,     0.49632,     0.49452,     0.49334,     0.49137,      0.4868,     0.48351,     0.48165,     0.48105,     0.48134,     0.47787,     0.47737,     0.47678,     0.47619,      0.4763,      0.4764,      0.4765,      0.4761,     0.47231,     0.46997,     0.46818,     0.46756,\n",
       "            0.46743,     0.46781,     0.46819,       0.468,     0.46738,     0.46676,     0.46613,     0.46509,     0.46177,     0.46097,     0.46034,     0.45923,     0.45943,     0.45955,     0.45968,     0.45737,     0.45701,     0.45676,      0.4565,     0.45625,     0.45599,     0.45351,     0.45309,\n",
       "            0.45266,     0.45225,     0.45193,     0.45161,      0.4513,     0.45114,     0.45001,     0.44937,     0.44873,     0.44809,     0.44724,     0.44471,     0.44342,     0.44213,     0.44121,     0.44078,     0.44035,     0.44031,     0.44015,      0.4395,     0.43943,      0.4388,     0.43839,\n",
       "            0.43851,     0.43863,     0.43649,     0.43519,     0.43388,     0.43324,     0.43281,     0.43237,     0.43175,     0.43109,     0.42658,     0.42592,     0.42369,     0.42237,     0.41843,     0.41715,     0.41724,     0.41733,     0.41742,     0.41731,     0.41624,     0.41532,     0.41318,\n",
       "            0.41273,     0.41228,     0.41183,     0.41138,     0.41093,     0.41052,     0.41018,     0.40984,      0.4095,     0.40738,     0.40336,     0.40065,     0.39558,      0.3947,     0.39424,     0.39378,     0.39274,     0.39196,     0.39149,     0.39103,     0.39023,     0.38953,     0.38906,\n",
       "             0.3886,     0.38879,     0.38766,     0.38536,     0.38415,     0.38179,     0.37787,     0.37539,     0.37311,     0.37275,     0.37239,     0.37204,     0.36888,     0.36852,     0.36817,     0.36781,     0.36439,     0.36366,     0.36294,     0.36222,     0.35809,     0.35521,     0.35436,\n",
       "            0.35363,     0.35255,     0.35139,     0.35115,     0.35066,     0.34871,     0.34718,     0.34504,     0.34065,     0.33975,     0.33926,     0.33876,     0.33613,     0.33542,     0.33504,     0.33467,     0.33429,     0.33302,     0.33299,      0.3324,     0.33165,     0.33067,     0.32678,\n",
       "            0.32561,     0.32485,      0.3237,      0.3181,     0.31733,     0.31612,     0.31458,     0.31153,     0.31112,     0.31132,     0.31122,     0.31007,     0.31021,     0.30836,     0.30704,     0.30626,      0.3052,     0.30275,     0.30286,     0.30297,     0.30248,     0.30196,      0.2999,\n",
       "            0.29951,     0.29912,     0.29872,     0.29517,     0.29411,      0.2938,     0.29389,     0.29399,     0.29344,     0.29264,     0.29229,     0.29206,     0.29183,      0.2916,     0.29138,     0.29115,     0.29092,     0.29104,     0.29117,     0.29038,     0.28963,     0.28978,     0.28823,\n",
       "            0.28716,     0.28575,     0.28467,     0.28387,     0.28287,     0.27694,      0.2758,     0.27553,     0.27248,     0.27139,     0.27087,     0.27046,     0.27005,     0.26964,     0.26642,     0.26587,     0.26532,     0.26419,     0.26164,     0.26127,      0.2609,     0.26053,     0.26015,\n",
       "            0.25967,      0.2592,     0.25872,     0.25703,      0.2541,     0.25373,     0.25336,     0.25298,     0.25261,     0.25107,     0.25108,     0.25106,     0.25082,     0.25058,     0.25034,      0.2501,     0.24986,     0.24962,     0.24848,     0.24702,     0.24602,     0.24534,     0.24402,\n",
       "             0.2419,     0.23919,     0.23834,     0.23762,     0.23694,     0.23018,     0.22905,     0.22819,     0.22437,      0.2235,     0.22137,     0.22098,     0.22059,     0.22021,     0.21982,     0.21785,     0.21698,     0.21605,     0.21488,     0.21371,     0.21276,      0.2124,     0.21205,\n",
       "             0.2117,     0.21135,     0.21046,     0.20923,     0.20879,     0.20835,     0.20791,      0.2071,     0.20609,     0.20444,     0.20458,     0.20356,     0.20253,     0.20193,     0.20134,     0.19932,     0.19888,     0.19843,     0.19798,      0.1938,      0.1926,     0.19028,     0.18983,\n",
       "            0.18938,     0.18892,     0.18776,     0.18692,     0.18646,     0.18601,     0.18556,     0.18502,     0.18441,      0.1838,     0.18241,     0.18147,     0.18094,     0.18042,     0.17815,     0.17774,     0.17734,     0.17693,     0.17652,     0.17594,     0.17533,     0.17471,     0.17352,\n",
       "            0.16931,     0.16445,     0.16107,     0.15835,     0.15742,     0.15637,     0.15423,      0.1517,     0.15046,     0.14951,     0.14731,     0.14689,     0.14647,     0.14605,     0.14563,      0.1434,     0.14213,     0.14143,     0.14079,     0.14016,     0.13642,     0.13514,     0.13435,\n",
       "              0.134,     0.13365,      0.1333,     0.13296,     0.13245,     0.13117,     0.13011,     0.12914,       0.126,     0.12462,     0.12398,     0.12333,     0.12241,     0.12143,     0.12017,     0.11859,     0.11663,     0.11467,     0.11271,      0.1079,     0.10691,     0.10565,     0.10378,\n",
       "            0.10329,     0.10279,     0.10229,    0.092376,     0.09137,    0.090362,    0.089354,    0.087397,     0.08627,    0.085764,    0.085257,     0.08475,    0.083463,    0.082523,    0.082071,    0.081619,    0.081167,    0.078663,    0.077301,     0.07664,    0.076435,    0.076231,    0.076026,\n",
       "           0.075821,    0.075616,    0.075412,    0.075207,    0.075002,    0.074797,     0.07407,    0.073249,    0.072524,    0.071937,     0.07135,    0.070762,    0.068293,    0.067835,    0.067376,    0.066917,    0.065901,    0.064521,     0.06314,    0.061286,    0.060523,    0.060315,    0.060107,\n",
       "           0.059899,    0.059691,    0.059483,    0.059275,    0.059066,    0.058858,     0.05865,     0.05798,    0.057285,    0.054477,    0.049352,     0.04824,    0.047916,    0.047592,    0.047268,    0.046943,    0.046619,     0.04606,    0.044652,     0.04271,    0.039697,     0.03909,    0.038483,\n",
       "           0.037323,    0.035833,    0.035359,    0.034885,     0.03441,    0.033936,    0.031535,    0.030923,    0.030311,     0.02962,    0.028188,    0.026301,      0.0231,     0.02256,    0.022019,    0.021478,    0.020937,    0.020395,    0.019854,    0.019312,    0.016991,    0.016656,    0.016322,\n",
       "           0.015987,    0.015652,    0.015317,     0.01285,    0.012304,    0.011758,    0.011211,    0.010706,    0.010507,    0.010308,    0.010109,   0.0099099,   0.0097108,   0.0095117,   0.0093126,   0.0091134,   0.0089141,   0.0087149,   0.0084511,   0.0080855,   0.0077198,    0.007354,   0.0069881,\n",
       "           0.006622,    0.004299,    0.004157,   0.0040149,   0.0038728,   0.0037306,   0.0035885,   0.0034463,   0.0033041,   0.0031619,   0.0030197,   0.0028774,   0.0027351,   0.0025928,   0.0024505,   0.0023082,   0.0021658,           0,           0,           0,           0,           0,           0,\n",
       "                  0,           0,           0,           0,           0,           0,           0,           0,           0,           0,           0,           0,           0,           0,           0,           0,           0,           0,           0,           0,           0,           0,           0,\n",
       "                  0,           0,           0,           0,           0,           0,           0,           0,           0,           0,           0,           0,           0,           0,           0,           0,           0,           0,           0,           0,           0,           0,           0,\n",
       "                  0,           0,           0,           0,           0,           0,           0,           0,           0,           0,           0]]), 'Confidence', 'F1'], [array([          0,    0.001001,    0.002002,    0.003003,    0.004004,    0.005005,    0.006006,    0.007007,    0.008008,    0.009009,     0.01001,    0.011011,    0.012012,    0.013013,    0.014014,    0.015015,    0.016016,    0.017017,    0.018018,    0.019019,     0.02002,    0.021021,    0.022022,    0.023023,\n",
       "          0.024024,    0.025025,    0.026026,    0.027027,    0.028028,    0.029029,     0.03003,    0.031031,    0.032032,    0.033033,    0.034034,    0.035035,    0.036036,    0.037037,    0.038038,    0.039039,     0.04004,    0.041041,    0.042042,    0.043043,    0.044044,    0.045045,    0.046046,    0.047047,\n",
       "          0.048048,    0.049049,     0.05005,    0.051051,    0.052052,    0.053053,    0.054054,    0.055055,    0.056056,    0.057057,    0.058058,    0.059059,     0.06006,    0.061061,    0.062062,    0.063063,    0.064064,    0.065065,    0.066066,    0.067067,    0.068068,    0.069069,     0.07007,    0.071071,\n",
       "          0.072072,    0.073073,    0.074074,    0.075075,    0.076076,    0.077077,    0.078078,    0.079079,     0.08008,    0.081081,    0.082082,    0.083083,    0.084084,    0.085085,    0.086086,    0.087087,    0.088088,    0.089089,     0.09009,    0.091091,    0.092092,    0.093093,    0.094094,    0.095095,\n",
       "          0.096096,    0.097097,    0.098098,    0.099099,      0.1001,      0.1011,      0.1021,      0.1031,      0.1041,     0.10511,     0.10611,     0.10711,     0.10811,     0.10911,     0.11011,     0.11111,     0.11211,     0.11311,     0.11411,     0.11512,     0.11612,     0.11712,     0.11812,     0.11912,\n",
       "           0.12012,     0.12112,     0.12212,     0.12312,     0.12412,     0.12513,     0.12613,     0.12713,     0.12813,     0.12913,     0.13013,     0.13113,     0.13213,     0.13313,     0.13413,     0.13514,     0.13614,     0.13714,     0.13814,     0.13914,     0.14014,     0.14114,     0.14214,     0.14314,\n",
       "           0.14414,     0.14515,     0.14615,     0.14715,     0.14815,     0.14915,     0.15015,     0.15115,     0.15215,     0.15315,     0.15415,     0.15516,     0.15616,     0.15716,     0.15816,     0.15916,     0.16016,     0.16116,     0.16216,     0.16316,     0.16416,     0.16517,     0.16617,     0.16717,\n",
       "           0.16817,     0.16917,     0.17017,     0.17117,     0.17217,     0.17317,     0.17417,     0.17518,     0.17618,     0.17718,     0.17818,     0.17918,     0.18018,     0.18118,     0.18218,     0.18318,     0.18418,     0.18519,     0.18619,     0.18719,     0.18819,     0.18919,     0.19019,     0.19119,\n",
       "           0.19219,     0.19319,     0.19419,      0.1952,      0.1962,      0.1972,      0.1982,      0.1992,      0.2002,      0.2012,      0.2022,      0.2032,      0.2042,     0.20521,     0.20621,     0.20721,     0.20821,     0.20921,     0.21021,     0.21121,     0.21221,     0.21321,     0.21421,     0.21522,\n",
       "           0.21622,     0.21722,     0.21822,     0.21922,     0.22022,     0.22122,     0.22222,     0.22322,     0.22422,     0.22523,     0.22623,     0.22723,     0.22823,     0.22923,     0.23023,     0.23123,     0.23223,     0.23323,     0.23423,     0.23524,     0.23624,     0.23724,     0.23824,     0.23924,\n",
       "           0.24024,     0.24124,     0.24224,     0.24324,     0.24424,     0.24525,     0.24625,     0.24725,     0.24825,     0.24925,     0.25025,     0.25125,     0.25225,     0.25325,     0.25425,     0.25526,     0.25626,     0.25726,     0.25826,     0.25926,     0.26026,     0.26126,     0.26226,     0.26326,\n",
       "           0.26426,     0.26527,     0.26627,     0.26727,     0.26827,     0.26927,     0.27027,     0.27127,     0.27227,     0.27327,     0.27427,     0.27528,     0.27628,     0.27728,     0.27828,     0.27928,     0.28028,     0.28128,     0.28228,     0.28328,     0.28428,     0.28529,     0.28629,     0.28729,\n",
       "           0.28829,     0.28929,     0.29029,     0.29129,     0.29229,     0.29329,     0.29429,      0.2953,      0.2963,      0.2973,      0.2983,      0.2993,      0.3003,      0.3013,      0.3023,      0.3033,      0.3043,     0.30531,     0.30631,     0.30731,     0.30831,     0.30931,     0.31031,     0.31131,\n",
       "           0.31231,     0.31331,     0.31431,     0.31532,     0.31632,     0.31732,     0.31832,     0.31932,     0.32032,     0.32132,     0.32232,     0.32332,     0.32432,     0.32533,     0.32633,     0.32733,     0.32833,     0.32933,     0.33033,     0.33133,     0.33233,     0.33333,     0.33433,     0.33534,\n",
       "           0.33634,     0.33734,     0.33834,     0.33934,     0.34034,     0.34134,     0.34234,     0.34334,     0.34434,     0.34535,     0.34635,     0.34735,     0.34835,     0.34935,     0.35035,     0.35135,     0.35235,     0.35335,     0.35435,     0.35536,     0.35636,     0.35736,     0.35836,     0.35936,\n",
       "           0.36036,     0.36136,     0.36236,     0.36336,     0.36436,     0.36537,     0.36637,     0.36737,     0.36837,     0.36937,     0.37037,     0.37137,     0.37237,     0.37337,     0.37437,     0.37538,     0.37638,     0.37738,     0.37838,     0.37938,     0.38038,     0.38138,     0.38238,     0.38338,\n",
       "           0.38438,     0.38539,     0.38639,     0.38739,     0.38839,     0.38939,     0.39039,     0.39139,     0.39239,     0.39339,     0.39439,      0.3954,      0.3964,      0.3974,      0.3984,      0.3994,      0.4004,      0.4014,      0.4024,      0.4034,      0.4044,     0.40541,     0.40641,     0.40741,\n",
       "           0.40841,     0.40941,     0.41041,     0.41141,     0.41241,     0.41341,     0.41441,     0.41542,     0.41642,     0.41742,     0.41842,     0.41942,     0.42042,     0.42142,     0.42242,     0.42342,     0.42442,     0.42543,     0.42643,     0.42743,     0.42843,     0.42943,     0.43043,     0.43143,\n",
       "           0.43243,     0.43343,     0.43443,     0.43544,     0.43644,     0.43744,     0.43844,     0.43944,     0.44044,     0.44144,     0.44244,     0.44344,     0.44444,     0.44545,     0.44645,     0.44745,     0.44845,     0.44945,     0.45045,     0.45145,     0.45245,     0.45345,     0.45445,     0.45546,\n",
       "           0.45646,     0.45746,     0.45846,     0.45946,     0.46046,     0.46146,     0.46246,     0.46346,     0.46446,     0.46547,     0.46647,     0.46747,     0.46847,     0.46947,     0.47047,     0.47147,     0.47247,     0.47347,     0.47447,     0.47548,     0.47648,     0.47748,     0.47848,     0.47948,\n",
       "           0.48048,     0.48148,     0.48248,     0.48348,     0.48448,     0.48549,     0.48649,     0.48749,     0.48849,     0.48949,     0.49049,     0.49149,     0.49249,     0.49349,     0.49449,      0.4955,      0.4965,      0.4975,      0.4985,      0.4995,      0.5005,      0.5015,      0.5025,      0.5035,\n",
       "            0.5045,     0.50551,     0.50651,     0.50751,     0.50851,     0.50951,     0.51051,     0.51151,     0.51251,     0.51351,     0.51451,     0.51552,     0.51652,     0.51752,     0.51852,     0.51952,     0.52052,     0.52152,     0.52252,     0.52352,     0.52452,     0.52553,     0.52653,     0.52753,\n",
       "           0.52853,     0.52953,     0.53053,     0.53153,     0.53253,     0.53353,     0.53453,     0.53554,     0.53654,     0.53754,     0.53854,     0.53954,     0.54054,     0.54154,     0.54254,     0.54354,     0.54454,     0.54555,     0.54655,     0.54755,     0.54855,     0.54955,     0.55055,     0.55155,\n",
       "           0.55255,     0.55355,     0.55455,     0.55556,     0.55656,     0.55756,     0.55856,     0.55956,     0.56056,     0.56156,     0.56256,     0.56356,     0.56456,     0.56557,     0.56657,     0.56757,     0.56857,     0.56957,     0.57057,     0.57157,     0.57257,     0.57357,     0.57457,     0.57558,\n",
       "           0.57658,     0.57758,     0.57858,     0.57958,     0.58058,     0.58158,     0.58258,     0.58358,     0.58458,     0.58559,     0.58659,     0.58759,     0.58859,     0.58959,     0.59059,     0.59159,     0.59259,     0.59359,     0.59459,      0.5956,      0.5966,      0.5976,      0.5986,      0.5996,\n",
       "            0.6006,      0.6016,      0.6026,      0.6036,      0.6046,     0.60561,     0.60661,     0.60761,     0.60861,     0.60961,     0.61061,     0.61161,     0.61261,     0.61361,     0.61461,     0.61562,     0.61662,     0.61762,     0.61862,     0.61962,     0.62062,     0.62162,     0.62262,     0.62362,\n",
       "           0.62462,     0.62563,     0.62663,     0.62763,     0.62863,     0.62963,     0.63063,     0.63163,     0.63263,     0.63363,     0.63463,     0.63564,     0.63664,     0.63764,     0.63864,     0.63964,     0.64064,     0.64164,     0.64264,     0.64364,     0.64464,     0.64565,     0.64665,     0.64765,\n",
       "           0.64865,     0.64965,     0.65065,     0.65165,     0.65265,     0.65365,     0.65465,     0.65566,     0.65666,     0.65766,     0.65866,     0.65966,     0.66066,     0.66166,     0.66266,     0.66366,     0.66466,     0.66567,     0.66667,     0.66767,     0.66867,     0.66967,     0.67067,     0.67167,\n",
       "           0.67267,     0.67367,     0.67467,     0.67568,     0.67668,     0.67768,     0.67868,     0.67968,     0.68068,     0.68168,     0.68268,     0.68368,     0.68468,     0.68569,     0.68669,     0.68769,     0.68869,     0.68969,     0.69069,     0.69169,     0.69269,     0.69369,     0.69469,      0.6957,\n",
       "            0.6967,      0.6977,      0.6987,      0.6997,      0.7007,      0.7017,      0.7027,      0.7037,      0.7047,     0.70571,     0.70671,     0.70771,     0.70871,     0.70971,     0.71071,     0.71171,     0.71271,     0.71371,     0.71471,     0.71572,     0.71672,     0.71772,     0.71872,     0.71972,\n",
       "           0.72072,     0.72172,     0.72272,     0.72372,     0.72472,     0.72573,     0.72673,     0.72773,     0.72873,     0.72973,     0.73073,     0.73173,     0.73273,     0.73373,     0.73473,     0.73574,     0.73674,     0.73774,     0.73874,     0.73974,     0.74074,     0.74174,     0.74274,     0.74374,\n",
       "           0.74474,     0.74575,     0.74675,     0.74775,     0.74875,     0.74975,     0.75075,     0.75175,     0.75275,     0.75375,     0.75475,     0.75576,     0.75676,     0.75776,     0.75876,     0.75976,     0.76076,     0.76176,     0.76276,     0.76376,     0.76476,     0.76577,     0.76677,     0.76777,\n",
       "           0.76877,     0.76977,     0.77077,     0.77177,     0.77277,     0.77377,     0.77477,     0.77578,     0.77678,     0.77778,     0.77878,     0.77978,     0.78078,     0.78178,     0.78278,     0.78378,     0.78478,     0.78579,     0.78679,     0.78779,     0.78879,     0.78979,     0.79079,     0.79179,\n",
       "           0.79279,     0.79379,     0.79479,      0.7958,      0.7968,      0.7978,      0.7988,      0.7998,      0.8008,      0.8018,      0.8028,      0.8038,      0.8048,     0.80581,     0.80681,     0.80781,     0.80881,     0.80981,     0.81081,     0.81181,     0.81281,     0.81381,     0.81481,     0.81582,\n",
       "           0.81682,     0.81782,     0.81882,     0.81982,     0.82082,     0.82182,     0.82282,     0.82382,     0.82482,     0.82583,     0.82683,     0.82783,     0.82883,     0.82983,     0.83083,     0.83183,     0.83283,     0.83383,     0.83483,     0.83584,     0.83684,     0.83784,     0.83884,     0.83984,\n",
       "           0.84084,     0.84184,     0.84284,     0.84384,     0.84484,     0.84585,     0.84685,     0.84785,     0.84885,     0.84985,     0.85085,     0.85185,     0.85285,     0.85385,     0.85485,     0.85586,     0.85686,     0.85786,     0.85886,     0.85986,     0.86086,     0.86186,     0.86286,     0.86386,\n",
       "           0.86486,     0.86587,     0.86687,     0.86787,     0.86887,     0.86987,     0.87087,     0.87187,     0.87287,     0.87387,     0.87487,     0.87588,     0.87688,     0.87788,     0.87888,     0.87988,     0.88088,     0.88188,     0.88288,     0.88388,     0.88488,     0.88589,     0.88689,     0.88789,\n",
       "           0.88889,     0.88989,     0.89089,     0.89189,     0.89289,     0.89389,     0.89489,      0.8959,      0.8969,      0.8979,      0.8989,      0.8999,      0.9009,      0.9019,      0.9029,      0.9039,      0.9049,     0.90591,     0.90691,     0.90791,     0.90891,     0.90991,     0.91091,     0.91191,\n",
       "           0.91291,     0.91391,     0.91491,     0.91592,     0.91692,     0.91792,     0.91892,     0.91992,     0.92092,     0.92192,     0.92292,     0.92392,     0.92492,     0.92593,     0.92693,     0.92793,     0.92893,     0.92993,     0.93093,     0.93193,     0.93293,     0.93393,     0.93493,     0.93594,\n",
       "           0.93694,     0.93794,     0.93894,     0.93994,     0.94094,     0.94194,     0.94294,     0.94394,     0.94494,     0.94595,     0.94695,     0.94795,     0.94895,     0.94995,     0.95095,     0.95195,     0.95295,     0.95395,     0.95495,     0.95596,     0.95696,     0.95796,     0.95896,     0.95996,\n",
       "           0.96096,     0.96196,     0.96296,     0.96396,     0.96496,     0.96597,     0.96697,     0.96797,     0.96897,     0.96997,     0.97097,     0.97197,     0.97297,     0.97397,     0.97497,     0.97598,     0.97698,     0.97798,     0.97898,     0.97998,     0.98098,     0.98198,     0.98298,     0.98398,\n",
       "           0.98498,     0.98599,     0.98699,     0.98799,     0.98899,     0.98999,     0.99099,     0.99199,     0.99299,     0.99399,     0.99499,       0.996,       0.997,       0.998,       0.999,           1]), array([[   0.079542,    0.079542,     0.10492,     0.12261,     0.13682,     0.14981,     0.15929,     0.16754,     0.17645,     0.18444,     0.19221,     0.19947,     0.20626,     0.21074,     0.21683,      0.2227,     0.22713,     0.23219,     0.23746,     0.24257,     0.24788,     0.25245,     0.25715,\n",
       "            0.26273,     0.26617,     0.27037,      0.2755,     0.27839,     0.28258,     0.28614,     0.28889,     0.29352,       0.296,     0.29925,     0.30381,      0.3064,     0.30955,     0.31409,     0.31658,      0.3201,     0.32198,     0.32502,     0.32747,     0.32985,      0.3351,     0.33666,\n",
       "            0.34049,     0.34328,     0.34616,     0.34811,     0.35112,     0.35177,     0.35425,     0.35715,     0.35953,     0.36229,     0.36529,     0.36753,     0.36952,     0.37099,     0.37488,     0.37552,     0.37787,     0.38027,     0.38226,     0.38494,     0.38643,     0.38735,     0.38923,\n",
       "            0.39421,     0.39614,     0.39885,     0.40047,     0.40388,     0.40482,     0.40584,     0.40858,     0.41141,     0.41299,     0.41438,     0.41815,     0.41888,     0.42098,     0.42329,     0.42493,     0.42998,     0.43287,      0.4347,      0.4372,     0.43966,     0.44219,     0.44198,\n",
       "            0.44568,      0.4473,     0.44913,     0.45164,     0.45645,     0.45834,     0.46116,     0.46261,     0.46553,     0.46759,     0.47035,     0.47332,     0.47471,     0.47603,     0.47872,     0.48064,     0.48025,     0.47972,     0.48043,     0.48273,     0.48513,     0.48638,     0.48892,\n",
       "            0.49101,     0.49204,     0.49342,     0.49431,     0.49556,      0.4986,     0.50177,     0.50204,     0.50348,      0.5051,     0.50634,     0.50705,     0.50738,     0.51056,      0.5121,     0.51245,     0.51326,      0.5144,     0.51684,     0.51636,     0.51737,     0.52039,     0.52292,\n",
       "            0.52518,     0.52641,     0.52788,     0.52959,     0.53051,     0.53223,      0.5342,     0.53578,     0.53814,     0.54025,     0.54091,     0.54107,     0.54153,     0.54328,      0.5451,     0.54762,     0.54775,     0.54991,     0.55029,     0.55266,     0.55313,     0.55523,     0.55627,\n",
       "            0.55844,     0.56051,      0.5624,     0.56223,     0.56487,     0.56702,     0.56713,     0.57142,     0.57118,     0.57223,     0.57442,     0.57898,     0.58182,     0.58469,     0.58572,     0.58812,     0.58981,     0.58928,     0.58943,     0.59269,      0.5932,     0.59512,     0.59505,\n",
       "            0.59615,     0.59878,     0.59859,     0.59841,     0.59885,      0.6023,      0.6036,     0.60358,     0.60427,     0.60398,     0.60452,     0.60661,     0.60603,     0.60832,     0.60943,      0.6096,     0.61133,     0.61161,     0.61333,     0.61539,     0.61734,     0.61845,     0.61784,\n",
       "            0.62518,      0.6261,     0.62722,     0.62769,      0.6284,      0.6283,     0.62764,      0.6288,     0.63209,     0.63467,      0.6359,     0.63789,     0.64029,     0.64059,     0.64186,     0.64132,     0.64256,     0.64234,     0.64233,     0.64151,     0.64341,     0.64919,     0.64746,\n",
       "            0.65033,     0.65082,     0.65185,     0.65397,     0.65516,     0.65632,     0.65679,     0.65741,     0.65731,     0.65701,     0.65885,     0.65877,     0.66403,     0.66481,     0.66604,     0.66865,     0.66989,     0.66858,     0.66789,     0.66814,     0.66994,     0.67122,     0.67101,\n",
       "            0.67039,     0.67131,     0.67154,     0.67561,      0.6761,     0.67718,     0.67793,     0.67871,     0.67881,     0.67973,     0.67974,     0.68309,     0.68353,     0.68519,     0.68731,     0.68796,     0.68828,     0.68726,     0.68972,     0.69144,     0.69489,     0.69621,     0.69646,\n",
       "            0.69873,     0.69993,     0.70164,     0.70366,     0.70543,     0.70414,     0.70568,     0.70536,     0.70531,     0.70711,     0.70696,     0.70681,     0.70626,     0.71027,     0.71383,      0.7152,       0.716,      0.7162,      0.7167,     0.71707,     0.71745,     0.71795,      0.7201,\n",
       "            0.72114,     0.72154,     0.72406,     0.72436,     0.72733,     0.72805,      0.7299,     0.73132,     0.73214,     0.73865,     0.73879,     0.74327,     0.74482,     0.74928,     0.75018,     0.74947,     0.74921,     0.74864,     0.74844,     0.74824,     0.74901,     0.74912,     0.74976,\n",
       "            0.74922,     0.75293,      0.7534,     0.75665,     0.75806,     0.75732,     0.75711,     0.75691,     0.75925,     0.75876,     0.75959,     0.76016,     0.76038,     0.76076,     0.76129,     0.76255,     0.76642,      0.7659,     0.76514,     0.76487,     0.76601,     0.77288,     0.77365,\n",
       "             0.7762,     0.77607,     0.77715,     0.78542,     0.78622,     0.78957,     0.78901,     0.78827,     0.78841,     0.79005,     0.79513,     0.79905,     0.79861,     0.79836,     0.80391,     0.80453,     0.80593,     0.80618,     0.80594,     0.80688,     0.80659,     0.80639,     0.81129,\n",
       "            0.81106,     0.81158,     0.81133,     0.81104,     0.81143,     0.81176,      0.8132,     0.81417,     0.81498,     0.82137,     0.82083,     0.82223,     0.82736,     0.82805,     0.82875,     0.82836,     0.82809,     0.82707,     0.82662,     0.82791,     0.82839,     0.82922,     0.82993,\n",
       "            0.83069,     0.83228,     0.83417,      0.8349,     0.83563,      0.8361,     0.83761,     0.83842,     0.83923,     0.83923,     0.83997,     0.84072,      0.8407,      0.8405,     0.84389,     0.84518,     0.84534,     0.84693,     0.84799,     0.84873,     0.84854,     0.84835,     0.84816,\n",
       "            0.84847,     0.84969,     0.85004,     0.84992,     0.84979,     0.85172,     0.85153,      0.8512,     0.85247,     0.85173,     0.85136,     0.85117,     0.85019,     0.84942,     0.84908,     0.84895,     0.84881,     0.84861,     0.84821,     0.85087,     0.85535,     0.85631,     0.85609,\n",
       "            0.85576,     0.85513,     0.85493,     0.85647,     0.85608,      0.8576,     0.85793,      0.8572,     0.85657,     0.85637,     0.85857,     0.85756,     0.86194,     0.86177,     0.86161,     0.86227,     0.86294,     0.86361,     0.86387,     0.86597,     0.86902,     0.87088,     0.87069,\n",
       "             0.8719,     0.87454,      0.8772,     0.87823,     0.87805,     0.87786,     0.87767,     0.87736,     0.87889,     0.87865,     0.87846,     0.87813,     0.88147,     0.88239,     0.88331,     0.88276,     0.88265,     0.88258,      0.8825,     0.88243,     0.88235,     0.88162,     0.88149,\n",
       "            0.88136,     0.88124,     0.88114,     0.88105,     0.88095,     0.88357,     0.88324,     0.88305,     0.88286,     0.88267,     0.88241,     0.88165,     0.88126,     0.88087,     0.88059,     0.88046,     0.88032,     0.88172,     0.88301,     0.88282,     0.88443,     0.88539,     0.88586,\n",
       "            0.88686,     0.88785,     0.88752,     0.88714,     0.88676,     0.88657,     0.88644,     0.88631,     0.88612,     0.88593,     0.88457,     0.88437,     0.88661,     0.88621,     0.88501,     0.88464,     0.88544,     0.88624,     0.88703,     0.88766,     0.88784,     0.89317,     0.89566,\n",
       "            0.89553,      0.8954,     0.89527,     0.89514,     0.89501,     0.89489,     0.89479,      0.8947,      0.8946,     0.89398,      0.8928,     0.89199,     0.89372,     0.89346,     0.89332,     0.89318,     0.89287,     0.89263,     0.89249,     0.89235,     0.89545,     0.89525,     0.89511,\n",
       "            0.89497,     0.89787,     0.89809,     0.90398,     0.90403,     0.90337,     0.90225,     0.90516,     0.90451,     0.90441,     0.90431,     0.90421,      0.9033,     0.90319,     0.90309,     0.90299,     0.90198,     0.90176,     0.90155,     0.90133,     0.90008,     0.89919,     0.89893,\n",
       "             0.8987,     0.90226,     0.90586,     0.90978,     0.90964,     0.90908,     0.90864,     0.90802,     0.90672,     0.90645,      0.9063,     0.90615,     0.90535,     0.90513,     0.90502,      0.9049,     0.90479,     0.90439,     0.90796,     0.90846,     0.90824,     0.90794,     0.91114,\n",
       "            0.91079,     0.91056,     0.91022,      0.9085,     0.90826,     0.90789,      0.9074,     0.90642,     0.90835,     0.91191,     0.91569,     0.91593,     0.91842,     0.91966,     0.91929,     0.91906,     0.91876,     0.91882,     0.92089,     0.92296,     0.92294,     0.92279,     0.92222,\n",
       "            0.92211,       0.922,     0.92189,     0.92087,     0.92056,     0.92162,     0.92342,     0.92522,     0.92556,     0.92534,     0.92524,     0.92518,     0.92511,     0.92505,     0.92499,     0.92492,     0.92486,     0.92745,     0.93021,     0.93003,     0.93005,     0.93527,     0.93489,\n",
       "            0.93462,     0.93427,       0.934,      0.9338,     0.93354,       0.932,     0.93323,     0.93739,     0.93662,     0.93635,     0.93622,     0.93611,     0.93601,      0.9359,     0.94112,     0.94098,     0.94085,     0.94058,     0.93995,     0.93986,     0.93977,     0.93967,     0.93958,\n",
       "            0.93946,     0.93934,     0.93922,     0.95163,     0.95103,     0.95095,     0.95087,     0.95079,     0.95071,     0.95038,     0.95462,     0.95712,     0.95708,     0.95703,     0.95699,     0.95694,      0.9569,     0.95685,     0.95663,     0.96332,     0.96316,     0.96305,     0.96283,\n",
       "            0.96247,     0.96201,     0.96186,     0.96173,     0.96161,     0.96038,     0.96017,     0.96001,     0.95927,      0.9591,     0.95868,      0.9586,     0.95852,     0.95844,     0.95836,     0.95796,     0.95778,     0.95758,     0.95733,     0.95708,     0.95688,      0.9568,     0.95672,\n",
       "            0.95665,     0.95657,     0.95637,      0.9561,       0.956,      0.9559,      0.9558,     0.95562,     0.96395,     0.96404,     0.97008,     0.97232,     0.97217,     0.97208,     0.97199,     0.97168,     0.97161,     0.97155,     0.97148,     0.97081,     0.97062,     0.97023,     0.97016,\n",
       "            0.97008,        0.97,      0.9698,     0.96966,     0.96958,      0.9695,     0.96942,     0.96933,     0.96922,     0.96911,     0.96886,     0.96868,     0.96859,     0.96849,     0.96806,     0.96799,     0.96791,     0.96783,     0.96775,     0.96764,     0.96752,      0.9674,     0.96716,\n",
       "             0.9663,     0.96524,     0.96448,     0.96384,     0.96361,     0.96336,     0.96283,     0.96218,     0.96186,     0.96161,     0.96101,     0.96089,     0.96078,     0.96066,     0.96054,     0.97288,     0.97263,     0.97249,     0.97236,     0.97223,     0.97143,     0.97115,     0.97097,\n",
       "            0.97089,     0.97081,     0.97073,     0.97065,     0.97054,     0.97024,     0.96999,     0.96975,     0.96897,     0.96862,     0.96845,     0.96828,     0.96803,     0.96777,     0.96742,     0.96697,      0.9664,     0.96581,      0.9652,     0.96362,     0.96328,     0.96283,     0.96215,\n",
       "            0.96197,     0.96178,     0.96159,           1,           1,           1,           1,           1,           1,           1,           1,           1,           1,           1,           1,           1,           1,           1,           1,           1,           1,           1,           1,\n",
       "                  1,           1,           1,           1,           1,           1,           1,           1,           1,           1,           1,           1,           1,           1,           1,           1,           1,           1,           1,           1,           1,           1,           1,\n",
       "                  1,           1,           1,           1,           1,           1,           1,           1,           1,           1,           1,           1,           1,           1,           1,           1,           1,           1,           1,           1,           1,           1,           1,\n",
       "                  1,           1,           1,           1,           1,           1,           1,           1,           1,           1,           1,           1,           1,           1,           1,           1,           1,           1,           1,           1,           1,           1,           1,\n",
       "                  1,           1,           1,           1,           1,           1,           1,           1,           1,           1,           1,           1,           1,           1,           1,           1,           1,           1,           1,           1,           1,           1,           1,\n",
       "                  1,           1,           1,           1,           1,           1,           1,           1,           1,           1,           1,           1,           1,           1,           1,           1,           1,           1,           1,           1,           1,           1,           1,\n",
       "                  1,           1,           1,           1,           1,           1,           1,           1,           1,           1,           1,           1,           1,           1,           1,           1,           1,           1,           1,           1,           1,           1,           1,\n",
       "                  1,           1,           1,           1,           1,           1,           1,           1,           1,           1,           1,           1,           1,           1,           1,           1,           1,           1,           1,           1,           1,           1,           1,\n",
       "                  1,           1,           1,           1,           1,           1,           1,           1,           1,           1,           1]]), 'Confidence', 'Precision'], [array([          0,    0.001001,    0.002002,    0.003003,    0.004004,    0.005005,    0.006006,    0.007007,    0.008008,    0.009009,     0.01001,    0.011011,    0.012012,    0.013013,    0.014014,    0.015015,    0.016016,    0.017017,    0.018018,    0.019019,     0.02002,    0.021021,    0.022022,    0.023023,\n",
       "          0.024024,    0.025025,    0.026026,    0.027027,    0.028028,    0.029029,     0.03003,    0.031031,    0.032032,    0.033033,    0.034034,    0.035035,    0.036036,    0.037037,    0.038038,    0.039039,     0.04004,    0.041041,    0.042042,    0.043043,    0.044044,    0.045045,    0.046046,    0.047047,\n",
       "          0.048048,    0.049049,     0.05005,    0.051051,    0.052052,    0.053053,    0.054054,    0.055055,    0.056056,    0.057057,    0.058058,    0.059059,     0.06006,    0.061061,    0.062062,    0.063063,    0.064064,    0.065065,    0.066066,    0.067067,    0.068068,    0.069069,     0.07007,    0.071071,\n",
       "          0.072072,    0.073073,    0.074074,    0.075075,    0.076076,    0.077077,    0.078078,    0.079079,     0.08008,    0.081081,    0.082082,    0.083083,    0.084084,    0.085085,    0.086086,    0.087087,    0.088088,    0.089089,     0.09009,    0.091091,    0.092092,    0.093093,    0.094094,    0.095095,\n",
       "          0.096096,    0.097097,    0.098098,    0.099099,      0.1001,      0.1011,      0.1021,      0.1031,      0.1041,     0.10511,     0.10611,     0.10711,     0.10811,     0.10911,     0.11011,     0.11111,     0.11211,     0.11311,     0.11411,     0.11512,     0.11612,     0.11712,     0.11812,     0.11912,\n",
       "           0.12012,     0.12112,     0.12212,     0.12312,     0.12412,     0.12513,     0.12613,     0.12713,     0.12813,     0.12913,     0.13013,     0.13113,     0.13213,     0.13313,     0.13413,     0.13514,     0.13614,     0.13714,     0.13814,     0.13914,     0.14014,     0.14114,     0.14214,     0.14314,\n",
       "           0.14414,     0.14515,     0.14615,     0.14715,     0.14815,     0.14915,     0.15015,     0.15115,     0.15215,     0.15315,     0.15415,     0.15516,     0.15616,     0.15716,     0.15816,     0.15916,     0.16016,     0.16116,     0.16216,     0.16316,     0.16416,     0.16517,     0.16617,     0.16717,\n",
       "           0.16817,     0.16917,     0.17017,     0.17117,     0.17217,     0.17317,     0.17417,     0.17518,     0.17618,     0.17718,     0.17818,     0.17918,     0.18018,     0.18118,     0.18218,     0.18318,     0.18418,     0.18519,     0.18619,     0.18719,     0.18819,     0.18919,     0.19019,     0.19119,\n",
       "           0.19219,     0.19319,     0.19419,      0.1952,      0.1962,      0.1972,      0.1982,      0.1992,      0.2002,      0.2012,      0.2022,      0.2032,      0.2042,     0.20521,     0.20621,     0.20721,     0.20821,     0.20921,     0.21021,     0.21121,     0.21221,     0.21321,     0.21421,     0.21522,\n",
       "           0.21622,     0.21722,     0.21822,     0.21922,     0.22022,     0.22122,     0.22222,     0.22322,     0.22422,     0.22523,     0.22623,     0.22723,     0.22823,     0.22923,     0.23023,     0.23123,     0.23223,     0.23323,     0.23423,     0.23524,     0.23624,     0.23724,     0.23824,     0.23924,\n",
       "           0.24024,     0.24124,     0.24224,     0.24324,     0.24424,     0.24525,     0.24625,     0.24725,     0.24825,     0.24925,     0.25025,     0.25125,     0.25225,     0.25325,     0.25425,     0.25526,     0.25626,     0.25726,     0.25826,     0.25926,     0.26026,     0.26126,     0.26226,     0.26326,\n",
       "           0.26426,     0.26527,     0.26627,     0.26727,     0.26827,     0.26927,     0.27027,     0.27127,     0.27227,     0.27327,     0.27427,     0.27528,     0.27628,     0.27728,     0.27828,     0.27928,     0.28028,     0.28128,     0.28228,     0.28328,     0.28428,     0.28529,     0.28629,     0.28729,\n",
       "           0.28829,     0.28929,     0.29029,     0.29129,     0.29229,     0.29329,     0.29429,      0.2953,      0.2963,      0.2973,      0.2983,      0.2993,      0.3003,      0.3013,      0.3023,      0.3033,      0.3043,     0.30531,     0.30631,     0.30731,     0.30831,     0.30931,     0.31031,     0.31131,\n",
       "           0.31231,     0.31331,     0.31431,     0.31532,     0.31632,     0.31732,     0.31832,     0.31932,     0.32032,     0.32132,     0.32232,     0.32332,     0.32432,     0.32533,     0.32633,     0.32733,     0.32833,     0.32933,     0.33033,     0.33133,     0.33233,     0.33333,     0.33433,     0.33534,\n",
       "           0.33634,     0.33734,     0.33834,     0.33934,     0.34034,     0.34134,     0.34234,     0.34334,     0.34434,     0.34535,     0.34635,     0.34735,     0.34835,     0.34935,     0.35035,     0.35135,     0.35235,     0.35335,     0.35435,     0.35536,     0.35636,     0.35736,     0.35836,     0.35936,\n",
       "           0.36036,     0.36136,     0.36236,     0.36336,     0.36436,     0.36537,     0.36637,     0.36737,     0.36837,     0.36937,     0.37037,     0.37137,     0.37237,     0.37337,     0.37437,     0.37538,     0.37638,     0.37738,     0.37838,     0.37938,     0.38038,     0.38138,     0.38238,     0.38338,\n",
       "           0.38438,     0.38539,     0.38639,     0.38739,     0.38839,     0.38939,     0.39039,     0.39139,     0.39239,     0.39339,     0.39439,      0.3954,      0.3964,      0.3974,      0.3984,      0.3994,      0.4004,      0.4014,      0.4024,      0.4034,      0.4044,     0.40541,     0.40641,     0.40741,\n",
       "           0.40841,     0.40941,     0.41041,     0.41141,     0.41241,     0.41341,     0.41441,     0.41542,     0.41642,     0.41742,     0.41842,     0.41942,     0.42042,     0.42142,     0.42242,     0.42342,     0.42442,     0.42543,     0.42643,     0.42743,     0.42843,     0.42943,     0.43043,     0.43143,\n",
       "           0.43243,     0.43343,     0.43443,     0.43544,     0.43644,     0.43744,     0.43844,     0.43944,     0.44044,     0.44144,     0.44244,     0.44344,     0.44444,     0.44545,     0.44645,     0.44745,     0.44845,     0.44945,     0.45045,     0.45145,     0.45245,     0.45345,     0.45445,     0.45546,\n",
       "           0.45646,     0.45746,     0.45846,     0.45946,     0.46046,     0.46146,     0.46246,     0.46346,     0.46446,     0.46547,     0.46647,     0.46747,     0.46847,     0.46947,     0.47047,     0.47147,     0.47247,     0.47347,     0.47447,     0.47548,     0.47648,     0.47748,     0.47848,     0.47948,\n",
       "           0.48048,     0.48148,     0.48248,     0.48348,     0.48448,     0.48549,     0.48649,     0.48749,     0.48849,     0.48949,     0.49049,     0.49149,     0.49249,     0.49349,     0.49449,      0.4955,      0.4965,      0.4975,      0.4985,      0.4995,      0.5005,      0.5015,      0.5025,      0.5035,\n",
       "            0.5045,     0.50551,     0.50651,     0.50751,     0.50851,     0.50951,     0.51051,     0.51151,     0.51251,     0.51351,     0.51451,     0.51552,     0.51652,     0.51752,     0.51852,     0.51952,     0.52052,     0.52152,     0.52252,     0.52352,     0.52452,     0.52553,     0.52653,     0.52753,\n",
       "           0.52853,     0.52953,     0.53053,     0.53153,     0.53253,     0.53353,     0.53453,     0.53554,     0.53654,     0.53754,     0.53854,     0.53954,     0.54054,     0.54154,     0.54254,     0.54354,     0.54454,     0.54555,     0.54655,     0.54755,     0.54855,     0.54955,     0.55055,     0.55155,\n",
       "           0.55255,     0.55355,     0.55455,     0.55556,     0.55656,     0.55756,     0.55856,     0.55956,     0.56056,     0.56156,     0.56256,     0.56356,     0.56456,     0.56557,     0.56657,     0.56757,     0.56857,     0.56957,     0.57057,     0.57157,     0.57257,     0.57357,     0.57457,     0.57558,\n",
       "           0.57658,     0.57758,     0.57858,     0.57958,     0.58058,     0.58158,     0.58258,     0.58358,     0.58458,     0.58559,     0.58659,     0.58759,     0.58859,     0.58959,     0.59059,     0.59159,     0.59259,     0.59359,     0.59459,      0.5956,      0.5966,      0.5976,      0.5986,      0.5996,\n",
       "            0.6006,      0.6016,      0.6026,      0.6036,      0.6046,     0.60561,     0.60661,     0.60761,     0.60861,     0.60961,     0.61061,     0.61161,     0.61261,     0.61361,     0.61461,     0.61562,     0.61662,     0.61762,     0.61862,     0.61962,     0.62062,     0.62162,     0.62262,     0.62362,\n",
       "           0.62462,     0.62563,     0.62663,     0.62763,     0.62863,     0.62963,     0.63063,     0.63163,     0.63263,     0.63363,     0.63463,     0.63564,     0.63664,     0.63764,     0.63864,     0.63964,     0.64064,     0.64164,     0.64264,     0.64364,     0.64464,     0.64565,     0.64665,     0.64765,\n",
       "           0.64865,     0.64965,     0.65065,     0.65165,     0.65265,     0.65365,     0.65465,     0.65566,     0.65666,     0.65766,     0.65866,     0.65966,     0.66066,     0.66166,     0.66266,     0.66366,     0.66466,     0.66567,     0.66667,     0.66767,     0.66867,     0.66967,     0.67067,     0.67167,\n",
       "           0.67267,     0.67367,     0.67467,     0.67568,     0.67668,     0.67768,     0.67868,     0.67968,     0.68068,     0.68168,     0.68268,     0.68368,     0.68468,     0.68569,     0.68669,     0.68769,     0.68869,     0.68969,     0.69069,     0.69169,     0.69269,     0.69369,     0.69469,      0.6957,\n",
       "            0.6967,      0.6977,      0.6987,      0.6997,      0.7007,      0.7017,      0.7027,      0.7037,      0.7047,     0.70571,     0.70671,     0.70771,     0.70871,     0.70971,     0.71071,     0.71171,     0.71271,     0.71371,     0.71471,     0.71572,     0.71672,     0.71772,     0.71872,     0.71972,\n",
       "           0.72072,     0.72172,     0.72272,     0.72372,     0.72472,     0.72573,     0.72673,     0.72773,     0.72873,     0.72973,     0.73073,     0.73173,     0.73273,     0.73373,     0.73473,     0.73574,     0.73674,     0.73774,     0.73874,     0.73974,     0.74074,     0.74174,     0.74274,     0.74374,\n",
       "           0.74474,     0.74575,     0.74675,     0.74775,     0.74875,     0.74975,     0.75075,     0.75175,     0.75275,     0.75375,     0.75475,     0.75576,     0.75676,     0.75776,     0.75876,     0.75976,     0.76076,     0.76176,     0.76276,     0.76376,     0.76476,     0.76577,     0.76677,     0.76777,\n",
       "           0.76877,     0.76977,     0.77077,     0.77177,     0.77277,     0.77377,     0.77477,     0.77578,     0.77678,     0.77778,     0.77878,     0.77978,     0.78078,     0.78178,     0.78278,     0.78378,     0.78478,     0.78579,     0.78679,     0.78779,     0.78879,     0.78979,     0.79079,     0.79179,\n",
       "           0.79279,     0.79379,     0.79479,      0.7958,      0.7968,      0.7978,      0.7988,      0.7998,      0.8008,      0.8018,      0.8028,      0.8038,      0.8048,     0.80581,     0.80681,     0.80781,     0.80881,     0.80981,     0.81081,     0.81181,     0.81281,     0.81381,     0.81481,     0.81582,\n",
       "           0.81682,     0.81782,     0.81882,     0.81982,     0.82082,     0.82182,     0.82282,     0.82382,     0.82482,     0.82583,     0.82683,     0.82783,     0.82883,     0.82983,     0.83083,     0.83183,     0.83283,     0.83383,     0.83483,     0.83584,     0.83684,     0.83784,     0.83884,     0.83984,\n",
       "           0.84084,     0.84184,     0.84284,     0.84384,     0.84484,     0.84585,     0.84685,     0.84785,     0.84885,     0.84985,     0.85085,     0.85185,     0.85285,     0.85385,     0.85485,     0.85586,     0.85686,     0.85786,     0.85886,     0.85986,     0.86086,     0.86186,     0.86286,     0.86386,\n",
       "           0.86486,     0.86587,     0.86687,     0.86787,     0.86887,     0.86987,     0.87087,     0.87187,     0.87287,     0.87387,     0.87487,     0.87588,     0.87688,     0.87788,     0.87888,     0.87988,     0.88088,     0.88188,     0.88288,     0.88388,     0.88488,     0.88589,     0.88689,     0.88789,\n",
       "           0.88889,     0.88989,     0.89089,     0.89189,     0.89289,     0.89389,     0.89489,      0.8959,      0.8969,      0.8979,      0.8989,      0.8999,      0.9009,      0.9019,      0.9029,      0.9039,      0.9049,     0.90591,     0.90691,     0.90791,     0.90891,     0.90991,     0.91091,     0.91191,\n",
       "           0.91291,     0.91391,     0.91491,     0.91592,     0.91692,     0.91792,     0.91892,     0.91992,     0.92092,     0.92192,     0.92292,     0.92392,     0.92492,     0.92593,     0.92693,     0.92793,     0.92893,     0.92993,     0.93093,     0.93193,     0.93293,     0.93393,     0.93493,     0.93594,\n",
       "           0.93694,     0.93794,     0.93894,     0.93994,     0.94094,     0.94194,     0.94294,     0.94394,     0.94494,     0.94595,     0.94695,     0.94795,     0.94895,     0.94995,     0.95095,     0.95195,     0.95295,     0.95395,     0.95495,     0.95596,     0.95696,     0.95796,     0.95896,     0.95996,\n",
       "           0.96096,     0.96196,     0.96296,     0.96396,     0.96496,     0.96597,     0.96697,     0.96797,     0.96897,     0.96997,     0.97097,     0.97197,     0.97297,     0.97397,     0.97497,     0.97598,     0.97698,     0.97798,     0.97898,     0.97998,     0.98098,     0.98198,     0.98298,     0.98398,\n",
       "           0.98498,     0.98599,     0.98699,     0.98799,     0.98899,     0.98999,     0.99099,     0.99199,     0.99299,     0.99399,     0.99499,       0.996,       0.997,       0.998,       0.999,           1]), array([[    0.92233,     0.92233,     0.90831,     0.89213,     0.88026,     0.87055,     0.86516,     0.86084,     0.85653,     0.85221,     0.85221,     0.85113,     0.84682,     0.84142,     0.83711,     0.83387,     0.82524,     0.82093,     0.81985,     0.81769,     0.81769,     0.81553,     0.81338,\n",
       "             0.8123,     0.81014,     0.80798,     0.80475,     0.79935,     0.79827,     0.79612,     0.79504,     0.79504,      0.7918,      0.7918,      0.7918,     0.78857,     0.78749,     0.78749,     0.78749,     0.78533,     0.78317,     0.78209,     0.78101,     0.77886,     0.77886,     0.77562,\n",
       "            0.77454,     0.77346,     0.77238,     0.77131,     0.77023,     0.76591,     0.76268,      0.7616,      0.7616,      0.7616,     0.75806,     0.75728,     0.75512,     0.75297,     0.75189,     0.74665,     0.74649,     0.74533,      0.7411,     0.73894,     0.73786,     0.73463,     0.73139,\n",
       "            0.73139,     0.73031,     0.72708,     0.72708,       0.726,     0.72124,     0.71915,     0.71768,     0.71521,     0.71189,      0.7109,      0.7109,     0.70982,     0.70982,     0.70766,     0.70624,      0.7055,     0.70442,     0.70442,     0.70442,     0.70338,     0.70334,     0.69795,\n",
       "            0.69795,     0.69471,     0.69305,     0.69256,     0.69256,     0.69256,     0.68932,     0.68824,     0.68716,     0.68593,     0.68501,     0.68501,     0.68393,     0.68177,     0.68177,     0.68177,      0.6798,     0.67536,      0.6753,      0.6753,      0.6753,      0.6753,     0.67422,\n",
       "            0.67329,     0.67314,     0.67098,     0.67064,      0.6699,     0.66775,     0.66775,     0.66669,     0.66617,     0.66499,     0.66343,     0.66127,     0.66019,     0.66019,     0.66019,     0.66019,     0.66019,     0.65912,     0.65912,     0.65588,      0.6548,      0.6548,      0.6548,\n",
       "             0.6548,      0.6548,     0.65372,     0.65264,     0.64971,     0.64941,     0.64833,     0.64617,     0.64605,     0.64509,     0.64293,     0.64228,     0.64186,     0.64186,     0.64078,     0.64078,     0.63862,     0.63646,     0.63646,      0.6343,      0.6343,      0.6343,     0.63323,\n",
       "            0.63215,     0.63149,     0.63107,     0.62675,     0.62567,     0.62567,     0.62468,      0.6246,     0.62136,     0.62136,     0.62136,     0.62136,     0.62028,      0.6192,     0.61768,     0.61597,     0.61597,     0.61289,     0.61174,     0.61165,     0.61057,     0.60949,     0.60626,\n",
       "            0.60518,      0.6041,     0.60164,     0.60086,     0.60086,     0.60086,     0.60086,     0.59952,     0.59628,     0.59547,     0.59547,     0.59439,       0.589,     0.58792,     0.58792,     0.58618,     0.58468,     0.58252,     0.58178,     0.58145,     0.57954,     0.57929,     0.57727,\n",
       "            0.57713,     0.57605,     0.57497,     0.57497,     0.57389,     0.57256,     0.57095,     0.56958,     0.56958,     0.56783,     0.56634,     0.56526,     0.56526,     0.56203,     0.56095,     0.55879,      0.5585,     0.55798,     0.55663,     0.55403,      0.5534,     0.54897,     0.54482,\n",
       "            0.54369,     0.54369,     0.54369,     0.54231,     0.54153,     0.53937,     0.53879,     0.53822,     0.53614,      0.5352,      0.5329,     0.53106,     0.53074,     0.52967,     0.52967,     0.52859,     0.52859,     0.52447,     0.52284,     0.51908,     0.51672,     0.51672,     0.51484,\n",
       "            0.51121,     0.50894,     0.50727,     0.50701,     0.50701,     0.50701,     0.50593,     0.50591,     0.50378,     0.50369,      0.5027,      0.5027,     0.50054,     0.50054,     0.50054,     0.50054,     0.50021,     0.49783,     0.49622,     0.49556,     0.49515,     0.49515,     0.49191,\n",
       "            0.49083,     0.48975,     0.48975,     0.48925,     0.48652,     0.48267,     0.48108,     0.48034,     0.47765,      0.4766,     0.47626,     0.47592,     0.47357,     0.47357,     0.47357,     0.47357,     0.47357,     0.47141,     0.47141,     0.47141,     0.47141,     0.46955,     0.46926,\n",
       "            0.46926,     0.46818,     0.46705,     0.46602,     0.46602,     0.46602,     0.46494,     0.46494,     0.46293,     0.46278,      0.4607,     0.46063,     0.46063,     0.46063,        0.46,     0.45825,     0.45762,     0.45623,     0.45574,     0.45525,      0.4539,     0.45307,      0.4525,\n",
       "            0.45119,     0.45092,     0.44823,     0.44768,     0.44616,     0.44436,     0.44387,     0.44337,     0.44228,     0.44013,     0.43969,     0.43905,     0.43818,     0.43797,     0.43797,      0.4365,     0.43536,      0.4341,     0.43226,     0.43163,     0.43083,     0.42934,     0.42934,\n",
       "            0.42826,      0.4262,      0.4251,     0.42503,     0.42503,     0.42501,     0.42356,     0.42171,     0.42071,     0.42071,     0.42071,     0.42037,     0.41921,     0.41858,     0.41855,     0.41855,     0.41855,     0.41729,     0.41665,     0.41466,      0.4139,     0.41334,     0.41316,\n",
       "            0.41213,     0.40888,     0.40822,     0.40746,     0.40561,     0.40471,     0.40387,     0.40345,     0.40237,     0.40178,      0.4003,     0.39915,     0.39806,     0.39806,     0.39806,     0.39566,     0.39492,     0.39211,     0.39087,     0.38923,     0.38835,     0.38619,     0.38619,\n",
       "            0.38619,     0.38511,     0.38511,     0.38511,     0.38511,     0.38296,     0.38296,     0.38296,     0.38296,     0.38188,     0.38188,     0.38188,     0.38143,     0.38087,     0.37972,     0.37972,     0.37736,      0.3754,      0.3754,     0.37526,     0.37471,     0.37416,     0.37361,\n",
       "            0.37325,     0.37325,     0.37301,     0.37264,     0.37227,     0.37177,     0.37122,     0.37024,     0.36893,      0.3656,     0.36456,       0.364,     0.36121,     0.35902,     0.35807,      0.3577,     0.35733,     0.35676,     0.35565,     0.35491,     0.35491,     0.35359,     0.35296,\n",
       "            0.35201,     0.35021,     0.34966,     0.34761,     0.34651,     0.34432,     0.33981,     0.33672,     0.33501,     0.33446,     0.33441,     0.33122,      0.3301,     0.32955,     0.32902,     0.32902,     0.32902,     0.32902,      0.3286,      0.3247,     0.32208,     0.32014,     0.31959,\n",
       "            0.31931,     0.31931,     0.31931,     0.31899,     0.31844,     0.31789,     0.31733,     0.31641,     0.31315,     0.31244,     0.31189,     0.31091,     0.31068,     0.31068,     0.31068,     0.30864,     0.30833,      0.3081,     0.30788,     0.30766,     0.30743,     0.30527,      0.3049,\n",
       "            0.30454,     0.30418,      0.3039,     0.30362,     0.30335,      0.3029,     0.30192,     0.30137,     0.30082,     0.30026,     0.29953,     0.29734,     0.29624,     0.29513,     0.29434,     0.29397,      0.2936,     0.29342,     0.29313,     0.29258,     0.29234,     0.29168,     0.29126,\n",
       "            0.29126,     0.29126,     0.28941,     0.28831,      0.2872,     0.28666,      0.2863,     0.28593,      0.2854,     0.28485,     0.28106,     0.28051,     0.27836,     0.27725,     0.27399,     0.27292,     0.27292,     0.27292,     0.27292,     0.27277,     0.27184,     0.27056,     0.26853,\n",
       "            0.26816,     0.26779,     0.26743,     0.26706,     0.26669,     0.26635,     0.26608,      0.2658,     0.26552,     0.26379,     0.26053,     0.25835,       0.254,      0.2533,     0.25293,     0.25257,     0.25174,     0.25111,     0.25074,     0.25037,     0.24947,     0.24892,     0.24855,\n",
       "            0.24818,     0.24811,     0.24718,     0.24488,     0.24389,     0.24204,     0.23898,      0.2368,     0.23503,     0.23475,     0.23448,      0.2342,     0.23177,     0.23149,     0.23121,     0.23094,     0.22831,     0.22776,      0.2272,     0.22665,      0.2235,     0.22132,     0.22068,\n",
       "            0.22012,     0.21908,     0.21797,     0.21756,     0.21719,     0.21573,     0.21459,     0.21298,     0.20972,     0.20906,     0.20869,     0.20832,     0.20638,     0.20585,     0.20557,      0.2053,     0.20502,     0.20408,     0.20388,     0.20342,     0.20286,     0.20215,     0.19909,\n",
       "            0.19824,     0.19769,     0.19686,      0.1928,     0.19225,     0.19138,     0.19027,     0.18809,      0.1877,      0.1877,     0.18747,     0.18662,     0.18662,     0.18523,      0.1843,     0.18374,     0.18299,     0.18123,     0.18123,     0.18123,     0.18088,     0.18051,     0.17907,\n",
       "            0.17879,     0.17852,     0.17824,     0.17575,     0.17502,     0.17476,     0.17476,     0.17476,     0.17436,      0.1738,     0.17356,      0.1734,     0.17324,     0.17308,     0.17292,     0.17277,     0.17261,      0.1726,      0.1726,     0.17205,     0.17152,     0.17145,     0.17038,\n",
       "            0.16964,     0.16867,     0.16793,     0.16737,     0.16669,     0.16263,     0.16181,      0.1615,     0.15943,     0.15869,     0.15834,     0.15807,     0.15779,     0.15751,     0.15517,      0.1548,     0.15443,     0.15368,     0.15197,     0.15172,     0.15148,     0.15123,     0.15097,\n",
       "            0.15066,     0.15034,     0.15003,     0.14858,     0.14664,     0.14639,     0.14615,      0.1459,     0.14566,     0.14464,     0.14455,     0.14448,     0.14432,     0.14416,     0.14401,     0.14385,     0.14369,     0.14353,     0.14278,     0.14168,     0.14102,     0.14058,     0.13971,\n",
       "            0.13833,     0.13657,     0.13602,     0.13556,     0.13512,     0.13076,     0.13003,     0.12948,     0.12704,     0.12649,     0.12513,     0.12488,     0.12464,     0.12439,     0.12415,      0.1229,     0.12235,     0.12176,     0.12102,     0.12029,     0.11968,     0.11946,     0.11924,\n",
       "            0.11902,      0.1188,     0.11824,     0.11747,     0.11719,     0.11692,     0.11664,     0.11613,     0.11538,     0.11435,     0.11435,     0.11368,     0.11304,     0.11267,      0.1123,     0.11105,     0.11078,      0.1105,     0.11022,     0.10765,     0.10691,     0.10548,     0.10521,\n",
       "            0.10493,     0.10465,     0.10394,     0.10343,     0.10315,     0.10287,      0.1026,     0.10227,      0.1019,     0.10153,     0.10068,     0.10011,    0.099794,    0.099478,    0.098102,    0.097856,     0.09761,    0.097365,    0.097119,    0.096766,    0.096397,    0.096029,    0.095312,\n",
       "           0.092785,    0.089882,    0.087871,    0.086263,     0.08571,    0.085093,    0.083831,    0.082342,     0.08161,    0.081058,    0.079769,    0.079523,    0.079277,    0.079032,    0.078786,    0.077404,    0.076667,    0.076261,    0.075892,    0.075523,    0.073361,    0.072622,    0.072169,\n",
       "           0.071968,    0.071767,    0.071566,    0.071365,    0.071075,    0.070338,     0.06973,    0.069178,    0.067379,    0.066597,    0.066228,    0.065859,    0.065334,    0.064782,    0.064063,    0.063166,     0.06206,    0.060955,    0.059849,    0.057149,    0.056597,     0.05589,    0.054849,\n",
       "           0.054573,    0.054296,     0.05402,    0.048425,    0.047872,    0.047319,    0.046766,    0.045695,    0.045079,    0.044803,    0.044527,     0.04425,    0.043549,    0.043037,    0.042791,    0.042546,      0.0423,    0.040942,    0.040205,    0.039847,    0.039736,    0.039626,    0.039515,\n",
       "           0.039404,    0.039294,    0.039183,    0.039073,    0.038962,    0.038852,    0.038459,    0.038017,    0.037626,    0.037311,    0.036995,    0.036679,    0.035354,    0.035108,    0.034863,    0.034617,    0.034073,    0.033336,    0.032599,    0.031611,    0.031206,    0.031095,    0.030985,\n",
       "           0.030874,    0.030764,    0.030653,    0.030542,    0.030432,    0.030321,    0.030211,    0.029856,    0.029487,    0.028001,      0.0253,    0.024716,    0.024546,    0.024376,    0.024206,    0.024036,    0.023866,    0.023573,    0.022836,    0.021821,    0.020251,    0.019935,    0.019619,\n",
       "           0.019016,    0.018244,    0.017998,    0.017752,    0.017506,    0.017261,     0.01602,    0.015704,    0.015388,    0.015033,    0.014295,    0.013326,    0.011685,    0.011409,    0.011132,    0.010856,    0.010579,    0.010303,    0.010026,   0.0097499,   0.0085682,   0.0083981,    0.008228,\n",
       "          0.0080578,   0.0078877,   0.0077176,   0.0064664,     0.00619,   0.0059135,   0.0056371,   0.0053817,   0.0052812,   0.0051807,   0.0050802,   0.0049796,   0.0048791,   0.0047786,   0.0046781,   0.0045775,    0.004477,   0.0043765,   0.0042435,   0.0040592,   0.0038749,   0.0036906,   0.0035063,\n",
       "           0.003322,   0.0021542,   0.0020828,   0.0020115,   0.0019401,   0.0018688,   0.0017975,   0.0017261,   0.0016548,   0.0015834,   0.0015121,   0.0014408,   0.0013694,   0.0012981,   0.0012268,   0.0011554,   0.0010841,           0,           0,           0,           0,           0,           0,\n",
       "                  0,           0,           0,           0,           0,           0,           0,           0,           0,           0,           0,           0,           0,           0,           0,           0,           0,           0,           0,           0,           0,           0,           0,\n",
       "                  0,           0,           0,           0,           0,           0,           0,           0,           0,           0,           0,           0,           0,           0,           0,           0,           0,           0,           0,           0,           0,           0,           0,\n",
       "                  0,           0,           0,           0,           0,           0,           0,           0,           0,           0,           0]]), 'Confidence', 'Recall']]\n",
       "fitness: 0.4105638267182581\n",
       "keys: ['metrics/precision(B)', 'metrics/recall(B)', 'metrics/mAP50(B)', 'metrics/mAP50-95(B)']\n",
       "maps: array([    0.38695])\n",
       "names: {0: 'Fire'}\n",
       "plot: True\n",
       "results_dict: {'metrics/precision(B)': 0.6083186588424019, 'metrics/recall(B)': 0.5879180151024811, 'metrics/mAP50(B)': 0.6230802780745655, 'metrics/mAP50-95(B)': 0.38695088767866836, 'fitness': 0.4105638267182581}\n",
       "save_dir: WindowsPath('runs/detect/train')\n",
       "speed: {'preprocess': 0.2997224708928418, 'inference': 16.619653492183478, 'loss': 0.0, 'postprocess': 0.6372861248357704}\n",
       "task: 'detect'"
      ]
     },
     "execution_count": 3,
     "metadata": {},
     "output_type": "execute_result"
    }
   ],
   "source": [
    "model.train(data=\"fire_detection.yaml\", epochs=50, imgsz=640, batch=4, device=\"0\", workers=2)"
   ]
  }
 ],
 "metadata": {
  "kernelspec": {
   "display_name": "base",
   "language": "python",
   "name": "python3"
  },
  "language_info": {
   "codemirror_mode": {
    "name": "ipython",
    "version": 3
   },
   "file_extension": ".py",
   "mimetype": "text/x-python",
   "name": "python",
   "nbconvert_exporter": "python",
   "pygments_lexer": "ipython3",
   "version": "3.12.7"
  }
 },
 "nbformat": 4,
 "nbformat_minor": 2
}
